{
 "cells": [
  {
   "cell_type": "markdown",
   "metadata": {},
   "source": [
    "# Mitigating Algorithmic Bias"
   ]
  },
  {
   "cell_type": "markdown",
   "metadata": {},
   "source": [
    "This chapter demonstrates a few representative algorithms for mitigating algorithmic bias. As discussed in the Chapter {doc}`1-1-intro.ipynb`, algorithmic bias can arise from (i) pre-existing bias in data, (ii) bias introduced during model training, and (iii) bias introduced when making predictions / decisions. Accordingly, to mitigate these biases, there are at least three types of approaches:\n",
    "\n",
    "- **Pre-processing Approaches**: pre-process training data to remove existing bias, before training models;\n",
    "- **In-processing Approaches**: modify how models are trained to impose fairness as a learning objective or constraint;\n",
    "- **Post-processing Approaches**: post-process model outputs (e.g., predictions or predicted probabilities) to satisfy certain fairness objective."
   ]
  },
  {
   "cell_type": "markdown",
   "metadata": {},
   "source": [
    "We will use the [LSAC Bar Passage Data](https://eric.ed.gov/?id=ED469370) for illustration. This data, originally collected by {cite:t}`wightman1998lsac`, contains the bar passage outcomes and demographic information of over 20,000 individuals."
   ]
  },
  {
   "cell_type": "markdown",
   "metadata": {},
   "source": [
    "```{admonition} Data: Compas Recidivism Dataset\n",
    ":class: note\n",
    "- Location: \"data/bar_pass_prediction.csv\"\n",
    "- Shape: (22407, 5)\n",
    "- Note: original dataset has a few more columns. They have been removed for cleaner demonstration.\n",
    "```"
   ]
  },
  {
   "cell_type": "markdown",
   "metadata": {},
   "source": [
    "We will use ```pass_bar``` as the outcome variable of interest, and treat ```race``` as the sensitive feature. We will focus only on white and black races, and remove any rows with missing data."
   ]
  },
  {
   "cell_type": "code",
   "execution_count": 193,
   "metadata": {},
   "outputs": [
    {
     "data": {
      "text/html": [
       "<div>\n",
       "<style scoped>\n",
       "    .dataframe tbody tr th:only-of-type {\n",
       "        vertical-align: middle;\n",
       "    }\n",
       "\n",
       "    .dataframe tbody tr th {\n",
       "        vertical-align: top;\n",
       "    }\n",
       "\n",
       "    .dataframe thead th {\n",
       "        text-align: right;\n",
       "    }\n",
       "</style>\n",
       "<table border=\"1\" class=\"dataframe\">\n",
       "  <thead>\n",
       "    <tr style=\"text-align: right;\">\n",
       "      <th></th>\n",
       "      <th>lsat</th>\n",
       "      <th>ugpa</th>\n",
       "      <th>gender</th>\n",
       "      <th>race</th>\n",
       "      <th>pass_bar</th>\n",
       "    </tr>\n",
       "  </thead>\n",
       "  <tbody>\n",
       "    <tr>\n",
       "      <th>0</th>\n",
       "      <td>44.0</td>\n",
       "      <td>3.5</td>\n",
       "      <td>female</td>\n",
       "      <td>white</td>\n",
       "      <td>1</td>\n",
       "    </tr>\n",
       "    <tr>\n",
       "      <th>1</th>\n",
       "      <td>29.0</td>\n",
       "      <td>3.5</td>\n",
       "      <td>female</td>\n",
       "      <td>white</td>\n",
       "      <td>1</td>\n",
       "    </tr>\n",
       "    <tr>\n",
       "      <th>2</th>\n",
       "      <td>36.0</td>\n",
       "      <td>3.5</td>\n",
       "      <td>male</td>\n",
       "      <td>white</td>\n",
       "      <td>1</td>\n",
       "    </tr>\n",
       "    <tr>\n",
       "      <th>3</th>\n",
       "      <td>39.0</td>\n",
       "      <td>3.5</td>\n",
       "      <td>male</td>\n",
       "      <td>white</td>\n",
       "      <td>1</td>\n",
       "    </tr>\n",
       "    <tr>\n",
       "      <th>4</th>\n",
       "      <td>48.0</td>\n",
       "      <td>3.5</td>\n",
       "      <td>male</td>\n",
       "      <td>white</td>\n",
       "      <td>1</td>\n",
       "    </tr>\n",
       "  </tbody>\n",
       "</table>\n",
       "</div>"
      ],
      "text/plain": [
       "   lsat  ugpa  gender   race  pass_bar\n",
       "0  44.0   3.5  female  white         1\n",
       "1  29.0   3.5  female  white         1\n",
       "2  36.0   3.5    male  white         1\n",
       "3  39.0   3.5    male  white         1\n",
       "4  48.0   3.5    male  white         1"
      ]
     },
     "execution_count": 193,
     "metadata": {},
     "output_type": "execute_result"
    }
   ],
   "source": [
    "import pandas as pd\n",
    "bar = pd.read_csv('../data/bar_pass_prediction.csv')\n",
    "bar = bar[bar['race'].isin(['white', 'black'])]\n",
    "bar.dropna(inplace = True)\n",
    "bar.reset_index(drop = True, inplace = True)\n",
    "bar.head()"
   ]
  },
  {
   "cell_type": "code",
   "execution_count": 194,
   "metadata": {},
   "outputs": [
    {
     "data": {
      "text/plain": [
       "Index(['lsat', 'ugpa', 'gender_male', 'race_white'], dtype='object')"
      ]
     },
     "execution_count": 194,
     "metadata": {},
     "output_type": "execute_result"
    }
   ],
   "source": [
    "# we will use lsat, upga, gender, and race as the features\n",
    "X = bar[['lsat', 'ugpa', 'gender', 'race']]\n",
    "Y = bar['pass_bar']\n",
    "# many ML algorithms take numerical input, so let's convert the categorical variables to numerical\n",
    "X = pd.get_dummies(X, columns = ['gender', 'race'], drop_first = True, dtype=int)\n",
    "X.columns"
   ]
  },
  {
   "cell_type": "code",
   "execution_count": 195,
   "metadata": {},
   "outputs": [],
   "source": [
    "# Let's first build a baseline classifier for demonstration\n",
    "# using random forest here, please feel free to try other techniques\n",
    "from sklearn.ensemble import RandomForestClassifier\n",
    "from sklearn.model_selection import train_test_split\n",
    "# we will use 70% of the data for training and 30% for testing\n",
    "# setting random_state for reproducibility\n",
    "X_train, X_test, y_train, y_test = train_test_split(X, Y, test_size = 0.3, random_state = 42)\n",
    "\n",
    "# train the random forest classifier\n",
    "rf_clf = RandomForestClassifier(n_estimators = 100, random_state = 42)\n",
    "rf_clf.fit(X_train, y_train)\n",
    "\n",
    "# make predictions on the testing data\n",
    "y_pred = rf_clf.predict(X_test)"
   ]
  },
  {
   "cell_type": "code",
   "execution_count": 196,
   "metadata": {},
   "outputs": [],
   "source": [
    "# Throughout this chapter, we will evaluate multiple models in terms of both predictive performance and fairness\n",
    "# For predictive performance: we will report the accuracy, precision, recall, and F1 score\n",
    "# For fairness: we will report demographic disparity and equalized odds disparity\n",
    "# let's create a function so that we don't need to repeat the same code multiple times\n",
    "from sklearn.metrics import accuracy_score, precision_recall_fscore_support\n",
    "from fairlearn import metrics\n",
    "def evaluate_model(y_test, y_pred):\n",
    "    accuracy = accuracy_score(y_test, y_pred)\n",
    "    precision, recall, f1, _ = precision_recall_fscore_support(y_test, y_pred, pos_label = 1, average = 'binary')\n",
    "    DD = metrics.demographic_parity_difference(y_test, y_pred, sensitive_features = X_test['race_white'])\n",
    "    EOD = metrics.equalized_odds_difference(y_test, y_pred, sensitive_features = X_test['race_white'])\n",
    "    # print all metrics\n",
    "    print('Accuracy:', accuracy)\n",
    "    print('Precision:', precision)\n",
    "    print('Recall:', recall)\n",
    "    print('F1 Score:', f1)\n",
    "    print('Demographic Disparity:', DD)\n",
    "    print('Equalized Odds Disparity:', EOD)"
   ]
  },
  {
   "cell_type": "code",
   "execution_count": 197,
   "metadata": {},
   "outputs": [
    {
     "name": "stdout",
     "output_type": "stream",
     "text": [
      "Accuracy: 0.9453215888316436\n",
      "Precision: 0.9552968960863698\n",
      "Recall: 0.9888248646760956\n",
      "F1 Score: 0.9717717717717718\n",
      "Demographic Disparity: 0.14865508464261712\n",
      "Equalized Odds Disparity: 0.20886479591836737\n"
     ]
    }
   ],
   "source": [
    "# evaluate model\n",
    "evaluate_model(y_test, y_pred)"
   ]
  },
  {
   "cell_type": "markdown",
   "metadata": {},
   "source": [
    "## Pre-Processing Approaches"
   ]
  },
  {
   "cell_type": "markdown",
   "metadata": {},
   "source": [
    "### Naive Approach: Remove Sensitive Feature"
   ]
  },
  {
   "cell_type": "markdown",
   "metadata": {},
   "source": [
    "The idea of pre-processing is to modify the data used for model training to remove the existing bias. Perhaps a seemingly obvious pre-processing approach is to simply drop the sensitive group attribute (```race``` in this case). After all, if the model is \"blind\" to race, it cannot have racial bias, right? Well, let's try it out."
   ]
  },
  {
   "cell_type": "code",
   "execution_count": 198,
   "metadata": {},
   "outputs": [
    {
     "name": "stdout",
     "output_type": "stream",
     "text": [
      "Accuracy: 0.9456539803888981\n",
      "Precision: 0.9553119730185498\n",
      "Recall: 0.9891740876549677\n",
      "F1 Score: 0.9719481856395299\n",
      "Demographic Disparity: 0.10655691437663273\n",
      "Equalized Odds Disparity: 0.19345238095238093\n"
     ]
    }
   ],
   "source": [
    "# now build another classifier without the race column\n",
    "X_norace_train = X_train.drop(columns = ['race_white'])\n",
    "X_norace_test = X_test.drop(columns = ['race_white'])\n",
    "# train the random forest classifier\n",
    "rf_clf = RandomForestClassifier(n_estimators = 100, random_state = 42)\n",
    "rf_clf.fit(X_norace_train, y_train)\n",
    "# make predictions on the testing data\n",
    "y_pred_norace = rf_clf.predict(X_norace_test)\n",
    "# evaluate the model\n",
    "evaluate_model(y_test, y_pred_norace)"
   ]
  },
  {
   "cell_type": "markdown",
   "metadata": {},
   "source": [
    "We can see that, while removing racial information reduces unfairness to some extent, both demographic disparity and equalized odds disparity still remain to a nontrivial extent. In general, removing sensitive feature from data has limited effectiveness. This is because other legitimate features in the data can be correlated with the sensitive feature. Indeed, as shown below, LSAT score and undergraduate GPA are both correlated with race to some degree."
   ]
  },
  {
   "cell_type": "code",
   "execution_count": 199,
   "metadata": {},
   "outputs": [
    {
     "data": {
      "text/plain": [
       "lsat           0.376971\n",
       "ugpa           0.222320\n",
       "gender_male    0.099201\n",
       "race_white     1.000000\n",
       "dtype: float64"
      ]
     },
     "execution_count": 199,
     "metadata": {},
     "output_type": "execute_result"
    }
   ],
   "source": [
    "X.corrwith(X['race_white'])"
   ]
  },
  {
   "cell_type": "markdown",
   "metadata": {},
   "source": [
    "```{warning}\n",
    "One could argue that the correlations between LSAT score / undergraduate GPA with race are themselves manifestations of existing racial bias in the education systme (e.g., perhaps black students systematically received less support in schools, leading to lower LSAT scores and undergraduate GPAs). In generally, what counts as \"legitimate\" or \"non-sensitive\" features can be a point of debate. \n",
    "```"
   ]
  },
  {
   "cell_type": "markdown",
   "metadata": {},
   "source": [
    "### Correlation Remover"
   ]
  },
  {
   "cell_type": "markdown",
   "metadata": {},
   "source": [
    "To deal with this issue, we need to systematically remove the correlations between each non-sensitive feature and the sensitive feature. This can be done via the ```CorrelationRemover``` function in the ```fairlearn``` package. Under the hood, it removes correlations by running linear regressions of non-sensitive features on the sensitive feature and obtaining the residuals."
   ]
  },
  {
   "cell_type": "code",
   "execution_count": 214,
   "metadata": {},
   "outputs": [
    {
     "data": {
      "text/plain": [
       "lsat           2.069709e-14\n",
       "ugpa           1.209489e-14\n",
       "gender_male    5.147216e-15\n",
       "dtype: float64"
      ]
     },
     "execution_count": 214,
     "metadata": {},
     "output_type": "execute_result"
    }
   ],
   "source": [
    "from fairlearn.preprocessing import CorrelationRemover\n",
    "cr = CorrelationRemover(sensitive_feature_ids=[\"race_white\"])\n",
    "X_cr_train = cr.fit_transform(X_train)\n",
    "# transformation returns a numpy array, let's convert it back to a pandas dataframe\n",
    "X_cr_train = pd.DataFrame(X_cr_train, columns = ['lsat', 'ugpa', 'gender_male'])\n",
    "# check correlations again - they are very close to 0 now\n",
    "race_train = X_train['race_white']\n",
    "X_cr_train.corrwith(race_train)"
   ]
  },
  {
   "cell_type": "code",
   "execution_count": 215,
   "metadata": {},
   "outputs": [
    {
     "name": "stdout",
     "output_type": "stream",
     "text": [
      "Accuracy: 0.9474821339537975\n",
      "Precision: 0.9537145732014087\n",
      "Recall: 0.9930155404225598\n",
      "F1 Score: 0.9729683490162532\n",
      "Demographic Disparity: 0.0752884481393088\n",
      "Equalized Odds Disparity: 0.09661989795918369\n"
     ]
    }
   ],
   "source": [
    "# now build another classifier with the transformed data\n",
    "rf_clf = RandomForestClassifier(n_estimators = 100, random_state = 42)\n",
    "rf_clf.fit(X_cr_train, y_train)\n",
    "# make predictions on the testing data\n",
    "y_pred_cr = rf_clf.predict(X_norace_test)\n",
    "# evaluate the model\n",
    "evaluate_model(y_test, y_pred_cr)"
   ]
  },
  {
   "cell_type": "markdown",
   "metadata": {},
   "source": [
    "We can see that both disparities are further reduced, especially disparity in terms of equalized odds."
   ]
  }
 ],
 "metadata": {
  "kernelspec": {
   "display_name": "Python 3",
   "language": "python",
   "name": "python3"
  },
  "language_info": {
   "codemirror_mode": {
    "name": "ipython",
    "version": 3
   },
   "file_extension": ".py",
   "mimetype": "text/x-python",
   "name": "python",
   "nbconvert_exporter": "python",
   "pygments_lexer": "ipython3",
   "version": "3.12.3"
  },
  "widgets": {
   "application/vnd.jupyter.widget-state+json": {
    "state": {},
    "version_major": 2,
    "version_minor": 0
   }
  }
 },
 "nbformat": 4,
 "nbformat_minor": 4
}
