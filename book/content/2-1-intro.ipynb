{
 "cells": [
  {
   "cell_type": "markdown",
   "metadata": {},
   "source": [
    "# Introduction to Interpretable Machine Learning"
   ]
  },
  {
   "cell_type": "markdown",
   "metadata": {},
   "source": []
  },
  {
   "cell_type": "markdown",
   "metadata": {},
   "source": [
    "|                    | Global Interpretation | Local Interpretation |\n",
    "| ------------------ | --------------------- | -------------------- |\n",
    "| Feature Importance | &check;               |                      |\n",
    "| PDP                | &check;               |                      |\n",
    "| ICE                |                       | &check;              |\n",
    "| ALE                | &check;               |                      |\n",
    "| SHAP               | &check;               | &check;              |\n",
    "| LIME               |                       | &check;              |"
   ]
  },
  {
   "cell_type": "markdown",
   "metadata": {},
   "source": [
    "Mention the \"Integrated Gradients\" approach {cite:p}`sundararajan2017axiomatic,enguehard2023sequential` as a more axiomatic framework to think about interpretability"
   ]
  }
 ],
 "metadata": {
  "kernelspec": {
   "display_name": "Python 3",
   "language": "python",
   "name": "python3"
  },
  "language_info": {
   "codemirror_mode": {
    "name": "ipython",
    "version": 3
   },
   "file_extension": ".py",
   "mimetype": "text/x-python",
   "name": "python",
   "nbconvert_exporter": "python",
   "pygments_lexer": "ipython3",
   "version": "3.8.0"
  },
  "widgets": {
   "application/vnd.jupyter.widget-state+json": {
    "state": {},
    "version_major": 2,
    "version_minor": 0
   }
  }
 },
 "nbformat": 4,
 "nbformat_minor": 4
}
