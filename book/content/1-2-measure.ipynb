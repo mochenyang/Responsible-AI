{
 "cells": [
  {
   "cell_type": "markdown",
   "metadata": {},
   "source": [
    "# Measuring Fairness"
   ]
  },
  {
   "cell_type": "markdown",
   "metadata": {},
   "source": [
    "The first step to addressing algorithmic bias is to be able to measure the degree of fairness (or lack thereof) in a given dataset. This chapter covers a number of commonly used fairness measures. For concreteness, we will demonstrate these fairness measures by calculating them on the [Compas Recidivism Dataset](https://www.propublica.org/datastore/dataset/compas-recidivism-risk-score-data-and-analysis)."
   ]
  },
  {
   "cell_type": "markdown",
   "metadata": {},
   "source": [
    "```{admonition} Data: Compas Recidivism Dataset\n",
    ":class: note\n",
    "- Location: \"data/recidivism/compas-scores-two-years.csv\"\n",
    "- Shape: (7214, 53)\n",
    "- Source: ProPublica\n",
    "```"
   ]
  },
  {
   "cell_type": "markdown",
   "metadata": {},
   "source": [
    "The following script imports the dataset and prints the first few rows."
   ]
  },
  {
   "cell_type": "code",
   "execution_count": 1,
   "metadata": {},
   "outputs": [
    {
     "data": {
      "text/html": [
       "<div>\n",
       "<style scoped>\n",
       "    .dataframe tbody tr th:only-of-type {\n",
       "        vertical-align: middle;\n",
       "    }\n",
       "\n",
       "    .dataframe tbody tr th {\n",
       "        vertical-align: top;\n",
       "    }\n",
       "\n",
       "    .dataframe thead th {\n",
       "        text-align: right;\n",
       "    }\n",
       "</style>\n",
       "<table border=\"1\" class=\"dataframe\">\n",
       "  <thead>\n",
       "    <tr style=\"text-align: right;\">\n",
       "      <th></th>\n",
       "      <th>id</th>\n",
       "      <th>name</th>\n",
       "      <th>first</th>\n",
       "      <th>last</th>\n",
       "      <th>compas_screening_date</th>\n",
       "      <th>sex</th>\n",
       "      <th>dob</th>\n",
       "      <th>age</th>\n",
       "      <th>age_cat</th>\n",
       "      <th>race</th>\n",
       "      <th>...</th>\n",
       "      <th>v_decile_score</th>\n",
       "      <th>v_score_text</th>\n",
       "      <th>v_screening_date</th>\n",
       "      <th>in_custody</th>\n",
       "      <th>out_custody</th>\n",
       "      <th>priors_count.1</th>\n",
       "      <th>start</th>\n",
       "      <th>end</th>\n",
       "      <th>event</th>\n",
       "      <th>two_year_recid</th>\n",
       "    </tr>\n",
       "  </thead>\n",
       "  <tbody>\n",
       "    <tr>\n",
       "      <th>0</th>\n",
       "      <td>1</td>\n",
       "      <td>miguel hernandez</td>\n",
       "      <td>miguel</td>\n",
       "      <td>hernandez</td>\n",
       "      <td>2013-08-14</td>\n",
       "      <td>Male</td>\n",
       "      <td>1947-04-18</td>\n",
       "      <td>69</td>\n",
       "      <td>Greater than 45</td>\n",
       "      <td>Other</td>\n",
       "      <td>...</td>\n",
       "      <td>1</td>\n",
       "      <td>Low</td>\n",
       "      <td>2013-08-14</td>\n",
       "      <td>2014-07-07</td>\n",
       "      <td>2014-07-14</td>\n",
       "      <td>0</td>\n",
       "      <td>0</td>\n",
       "      <td>327</td>\n",
       "      <td>0</td>\n",
       "      <td>0</td>\n",
       "    </tr>\n",
       "    <tr>\n",
       "      <th>1</th>\n",
       "      <td>3</td>\n",
       "      <td>kevon dixon</td>\n",
       "      <td>kevon</td>\n",
       "      <td>dixon</td>\n",
       "      <td>2013-01-27</td>\n",
       "      <td>Male</td>\n",
       "      <td>1982-01-22</td>\n",
       "      <td>34</td>\n",
       "      <td>25 - 45</td>\n",
       "      <td>African-American</td>\n",
       "      <td>...</td>\n",
       "      <td>1</td>\n",
       "      <td>Low</td>\n",
       "      <td>2013-01-27</td>\n",
       "      <td>2013-01-26</td>\n",
       "      <td>2013-02-05</td>\n",
       "      <td>0</td>\n",
       "      <td>9</td>\n",
       "      <td>159</td>\n",
       "      <td>1</td>\n",
       "      <td>1</td>\n",
       "    </tr>\n",
       "    <tr>\n",
       "      <th>2</th>\n",
       "      <td>4</td>\n",
       "      <td>ed philo</td>\n",
       "      <td>ed</td>\n",
       "      <td>philo</td>\n",
       "      <td>2013-04-14</td>\n",
       "      <td>Male</td>\n",
       "      <td>1991-05-14</td>\n",
       "      <td>24</td>\n",
       "      <td>Less than 25</td>\n",
       "      <td>African-American</td>\n",
       "      <td>...</td>\n",
       "      <td>3</td>\n",
       "      <td>Low</td>\n",
       "      <td>2013-04-14</td>\n",
       "      <td>2013-06-16</td>\n",
       "      <td>2013-06-16</td>\n",
       "      <td>4</td>\n",
       "      <td>0</td>\n",
       "      <td>63</td>\n",
       "      <td>0</td>\n",
       "      <td>1</td>\n",
       "    </tr>\n",
       "    <tr>\n",
       "      <th>3</th>\n",
       "      <td>5</td>\n",
       "      <td>marcu brown</td>\n",
       "      <td>marcu</td>\n",
       "      <td>brown</td>\n",
       "      <td>2013-01-13</td>\n",
       "      <td>Male</td>\n",
       "      <td>1993-01-21</td>\n",
       "      <td>23</td>\n",
       "      <td>Less than 25</td>\n",
       "      <td>African-American</td>\n",
       "      <td>...</td>\n",
       "      <td>6</td>\n",
       "      <td>Medium</td>\n",
       "      <td>2013-01-13</td>\n",
       "      <td>NaN</td>\n",
       "      <td>NaN</td>\n",
       "      <td>1</td>\n",
       "      <td>0</td>\n",
       "      <td>1174</td>\n",
       "      <td>0</td>\n",
       "      <td>0</td>\n",
       "    </tr>\n",
       "    <tr>\n",
       "      <th>4</th>\n",
       "      <td>6</td>\n",
       "      <td>bouthy pierrelouis</td>\n",
       "      <td>bouthy</td>\n",
       "      <td>pierrelouis</td>\n",
       "      <td>2013-03-26</td>\n",
       "      <td>Male</td>\n",
       "      <td>1973-01-22</td>\n",
       "      <td>43</td>\n",
       "      <td>25 - 45</td>\n",
       "      <td>Other</td>\n",
       "      <td>...</td>\n",
       "      <td>1</td>\n",
       "      <td>Low</td>\n",
       "      <td>2013-03-26</td>\n",
       "      <td>NaN</td>\n",
       "      <td>NaN</td>\n",
       "      <td>2</td>\n",
       "      <td>0</td>\n",
       "      <td>1102</td>\n",
       "      <td>0</td>\n",
       "      <td>0</td>\n",
       "    </tr>\n",
       "  </tbody>\n",
       "</table>\n",
       "<p>5 rows × 53 columns</p>\n",
       "</div>"
      ],
      "text/plain": [
       "   id                name   first         last compas_screening_date   sex  \\\n",
       "0   1    miguel hernandez  miguel    hernandez            2013-08-14  Male   \n",
       "1   3         kevon dixon   kevon        dixon            2013-01-27  Male   \n",
       "2   4            ed philo      ed        philo            2013-04-14  Male   \n",
       "3   5         marcu brown   marcu        brown            2013-01-13  Male   \n",
       "4   6  bouthy pierrelouis  bouthy  pierrelouis            2013-03-26  Male   \n",
       "\n",
       "          dob  age          age_cat              race  ...  v_decile_score  \\\n",
       "0  1947-04-18   69  Greater than 45             Other  ...               1   \n",
       "1  1982-01-22   34          25 - 45  African-American  ...               1   \n",
       "2  1991-05-14   24     Less than 25  African-American  ...               3   \n",
       "3  1993-01-21   23     Less than 25  African-American  ...               6   \n",
       "4  1973-01-22   43          25 - 45             Other  ...               1   \n",
       "\n",
       "   v_score_text  v_screening_date  in_custody  out_custody  priors_count.1  \\\n",
       "0           Low        2013-08-14  2014-07-07   2014-07-14               0   \n",
       "1           Low        2013-01-27  2013-01-26   2013-02-05               0   \n",
       "2           Low        2013-04-14  2013-06-16   2013-06-16               4   \n",
       "3        Medium        2013-01-13         NaN          NaN               1   \n",
       "4           Low        2013-03-26         NaN          NaN               2   \n",
       "\n",
       "  start   end event two_year_recid  \n",
       "0     0   327     0              0  \n",
       "1     9   159     1              1  \n",
       "2     0    63     0              1  \n",
       "3     0  1174     0              0  \n",
       "4     0  1102     0              0  \n",
       "\n",
       "[5 rows x 53 columns]"
      ]
     },
     "execution_count": 1,
     "metadata": {},
     "output_type": "execute_result"
    }
   ],
   "source": [
    "# import compas two-year dataset\n",
    "import pandas as pd\n",
    "compas = pd.read_csv('../data/recidivism/compas-scores-two-years.csv')\n",
    "compas.head()"
   ]
  },
  {
   "cell_type": "code",
   "execution_count": 2,
   "metadata": {},
   "outputs": [
    {
     "data": {
      "text/plain": [
       "(6172, 13)"
      ]
     },
     "execution_count": 2,
     "metadata": {},
     "output_type": "execute_result"
    }
   ],
   "source": [
    "# following the ProPublica analysis, we remove several rows with missing data\n",
    "# see https://github.com/propublica/compas-analysis/blob/master/Compas%20Analysis.ipynb for more details\n",
    "compas = compas[['age', 'c_charge_degree', 'race', 'age_cat', 'score_text', 'sex', 'priors_count', 'days_b_screening_arrest', 'decile_score', 'is_recid', 'two_year_recid', 'c_jail_in', 'c_jail_out']]\n",
    "compas = compas[(compas['days_b_screening_arrest'] <= 30) & \n",
    "                (compas['days_b_screening_arrest'] >= -30) &  \n",
    "                (compas['is_recid'] != -1) &\n",
    "                (compas['c_charge_degree'] != 'O') & \n",
    "                (compas['score_text'] != 'N/A')]\n",
    "compas.shape"
   ]
  },
  {
   "cell_type": "code",
   "execution_count": 3,
   "metadata": {},
   "outputs": [
    {
     "data": {
      "text/plain": [
       "(5278, 13)"
      ]
     },
     "execution_count": 3,
     "metadata": {},
     "output_type": "execute_result"
    }
   ],
   "source": [
    "# finally, we focus on \"race\" as the protected attribute and African American vs. Caucasian as the two groups\n",
    "compas = compas[compas['race'].isin(['African-American', 'Caucasian'])]\n",
    "compas.shape"
   ]
  },
  {
   "cell_type": "markdown",
   "metadata": {},
   "source": [
    "## Fairness Measures for Binary Classifier"
   ]
  },
  {
   "cell_type": "markdown",
   "metadata": {},
   "source": [
    "To begin with, we consider measuring fairness of a classification model. In the ```Compas``` dataset, the ```score_text``` columns contains model-predicted risk level (low, medium, high) and the ```two_year_recid``` column contains the actual two-year recidivism label (1, 0). Because the outcome label is binary, we focus on the \"low\" and \"high\" predicted classes here."
   ]
  },
  {
   "cell_type": "code",
   "execution_count": 4,
   "metadata": {},
   "outputs": [],
   "source": [
    "compas_binary = compas.copy()\n",
    "# remove \"medium\" in score_text\n",
    "compas_binary = compas_binary[compas_binary['score_text'] != 'Medium']"
   ]
  },
  {
   "cell_type": "markdown",
   "metadata": {},
   "source": [
    "Throughout this chapter, we adopt the following notations in formal definitions of different fairness measures:"
   ]
  },
  {
   "cell_type": "markdown",
   "metadata": {},
   "source": [
    "```{admonition} Notations\n",
    ":class: tip\n",
    "- $Y$: actual outcome (0/1, recidivism without two years or not);\n",
    "- $\\widehat{Y}$: predicted risk score (\"High\" or \"Low\");\n",
    "- $p$: predicted probability of being \"High\" risk;\n",
    "- $R$: race, protected attribute of interested in this example. $R \\in \\{AA, W\\}$ represents African American and Caucasian respectively;\n",
    "- $\\boldsymbol{X}$: other observable characteristics (e.g., gender, age, prior offenses).\n",
    "```"
   ]
  },
  {
   "cell_type": "markdown",
   "metadata": {},
   "source": [
    "### Statistical Parity"
   ]
  },
  {
   "cell_type": "markdown",
   "metadata": {},
   "source": [
    "**Statistical parity** is one of the most straightforward fairness measures. It simply asserts that one group should not receive systematically more favorable predicted outcomes than the other group. Despite its simplicity, it has been extensively used / discussed in the prior literature, such as {cite:t}`calders2010three,calders2009building,kamiran2009classifying,kamishima2011fairness`, among many others.\n",
    "\n",
    "In the context of recidivism prediction, with the protected attribute being race and the two groups to be compared being African American vs. White, statistical parity can be defined as:"
   ]
  },
  {
   "cell_type": "markdown",
   "metadata": {},
   "source": [
    "```{admonition} Definition: Statistical Parity for Binary Classifier\n",
    ":class: tip\n",
    "$$\n",
    "\\Pr(\\widehat{Y} = High | R = AA) = \\Pr(\\widehat{Y} = High | R = W)\n",
    "$$\n",
    "```"
   ]
  },
  {
   "cell_type": "code",
   "execution_count": 5,
   "metadata": {},
   "outputs": [
    {
     "name": "stdout",
     "output_type": "stream",
     "text": [
      "Percentage of 'high' predicted scores among African Americans:  0.38566864445458693\n",
      "Percentage of 'high' predicted scores among Whites:  0.13680981595092023\n"
     ]
    }
   ],
   "source": [
    "# evaluate statistical parity\n",
    "# percentage of \"high\" scores among African Americans\n",
    "AA_pct = len(compas_binary[(compas_binary['score_text'] == 'High') & (compas_binary['race'] == 'African-American')]) / len(compas_binary[compas_binary['race'] == 'African-American'])\n",
    "# percentage of \"high\" scores among Whites\n",
    "W_pct = len(compas_binary[(compas_binary['score_text'] == 'High') & (compas_binary['race'] == 'Caucasian')]) / len(compas_binary[compas_binary['race'] == 'Caucasian'])\n",
    "print(\"Percentage of 'high' predicted scores among African Americans: \", AA_pct)\n",
    "print(\"Percentage of 'high' predicted scores among Whites: \", W_pct)"
   ]
  },
  {
   "cell_type": "markdown",
   "metadata": {},
   "source": [
    "As we can see, around 38.6\\% of African American defendents received high-risk predictions whereas only 13.7\\% of White defendents received high-risk predictions. This is a violation of statistical parity."
   ]
  },
  {
   "cell_type": "markdown",
   "metadata": {},
   "source": [
    "### Conditional Statistical Parity"
   ]
  },
  {
   "cell_type": "markdown",
   "metadata": {},
   "source": [
    "Statistical parity is a rather crude measure and, specifically, does not take into account any systematic differences across the two groups that may explain some of the disparity in predicted outcomes. **Conditional Statistical Parity** seeks to amend this issue by conditioning on other observable characteristics. It has also been discussed in prior literature, including for example, {cite:t}`vzliobaite2011handling,kamiran2013quantifying`."
   ]
  },
  {
   "cell_type": "markdown",
   "metadata": {},
   "source": [
    "```{admonition} Definition: Conditional Statistical Parity for Binary Classifier\n",
    ":class: tip\n",
    "$$\n",
    "\\Pr(\\widehat{Y} = High | R = AA, \\boldsymbol{X}) = \\Pr(\\widehat{Y} = High | R = W, \\boldsymbol{X})\n",
    "$$\n",
    "```"
   ]
  },
  {
   "cell_type": "code",
   "execution_count": 25,
   "metadata": {},
   "outputs": [
    {
     "name": "stdout",
     "output_type": "stream",
     "text": [
      "Optimization terminated successfully.\n",
      "         Current function value: 0.360191\n",
      "         Iterations 8\n"
     ]
    },
    {
     "data": {
      "text/html": [
       "<table class=\"simpletable\">\n",
       "<caption>Logit Regression Results</caption>\n",
       "<tr>\n",
       "  <th>Dep. Variable:</th>           <td>Y</td>        <th>  No. Observations:  </th>  <td>  3821</td> \n",
       "</tr>\n",
       "<tr>\n",
       "  <th>Model:</th>                 <td>Logit</td>      <th>  Df Residuals:      </th>  <td>  3815</td> \n",
       "</tr>\n",
       "<tr>\n",
       "  <th>Method:</th>                 <td>MLE</td>       <th>  Df Model:          </th>  <td>     5</td> \n",
       "</tr>\n",
       "<tr>\n",
       "  <th>Date:</th>            <td>Tue, 07 May 2024</td> <th>  Pseudo R-squ.:     </th>  <td>0.3921</td> \n",
       "</tr>\n",
       "<tr>\n",
       "  <th>Time:</th>                <td>15:22:57</td>     <th>  Log-Likelihood:    </th> <td> -1376.3</td>\n",
       "</tr>\n",
       "<tr>\n",
       "  <th>converged:</th>             <td>True</td>       <th>  LL-Null:           </th> <td> -2263.9</td>\n",
       "</tr>\n",
       "<tr>\n",
       "  <th>Covariance Type:</th>     <td>nonrobust</td>    <th>  LLR p-value:       </th>  <td> 0.000</td> \n",
       "</tr>\n",
       "</table>\n",
       "<table class=\"simpletable\">\n",
       "<tr>\n",
       "            <td></td>              <th>coef</th>     <th>std err</th>      <th>z</th>      <th>P>|z|</th>  <th>[0.025</th>    <th>0.975]</th>  \n",
       "</tr>\n",
       "<tr>\n",
       "  <th>Intercept</th>            <td>    2.5816</td> <td>    0.224</td> <td>   11.531</td> <td> 0.000</td> <td>    2.143</td> <td>    3.020</td>\n",
       "</tr>\n",
       "<tr>\n",
       "  <th>race[T.Caucasian]</th>    <td>   -0.6532</td> <td>    0.105</td> <td>   -6.229</td> <td> 0.000</td> <td>   -0.859</td> <td>   -0.448</td>\n",
       "</tr>\n",
       "<tr>\n",
       "  <th>sex[T.Male]</th>          <td>   -0.0371</td> <td>    0.128</td> <td>   -0.290</td> <td> 0.772</td> <td>   -0.288</td> <td>    0.214</td>\n",
       "</tr>\n",
       "<tr>\n",
       "  <th>c_charge_degree[T.M]</th> <td>   -0.4953</td> <td>    0.106</td> <td>   -4.682</td> <td> 0.000</td> <td>   -0.703</td> <td>   -0.288</td>\n",
       "</tr>\n",
       "<tr>\n",
       "  <th>age</th>                  <td>   -0.1396</td> <td>    0.007</td> <td>  -19.506</td> <td> 0.000</td> <td>   -0.154</td> <td>   -0.126</td>\n",
       "</tr>\n",
       "<tr>\n",
       "  <th>priors_count</th>         <td>    0.3782</td> <td>    0.016</td> <td>   23.279</td> <td> 0.000</td> <td>    0.346</td> <td>    0.410</td>\n",
       "</tr>\n",
       "</table>"
      ],
      "text/plain": [
       "<class 'statsmodels.iolib.summary.Summary'>\n",
       "\"\"\"\n",
       "                           Logit Regression Results                           \n",
       "==============================================================================\n",
       "Dep. Variable:                      Y   No. Observations:                 3821\n",
       "Model:                          Logit   Df Residuals:                     3815\n",
       "Method:                           MLE   Df Model:                            5\n",
       "Date:                Tue, 07 May 2024   Pseudo R-squ.:                  0.3921\n",
       "Time:                        15:22:57   Log-Likelihood:                -1376.3\n",
       "converged:                       True   LL-Null:                       -2263.9\n",
       "Covariance Type:            nonrobust   LLR p-value:                     0.000\n",
       "========================================================================================\n",
       "                           coef    std err          z      P>|z|      [0.025      0.975]\n",
       "----------------------------------------------------------------------------------------\n",
       "Intercept                2.5816      0.224     11.531      0.000       2.143       3.020\n",
       "race[T.Caucasian]       -0.6532      0.105     -6.229      0.000      -0.859      -0.448\n",
       "sex[T.Male]             -0.0371      0.128     -0.290      0.772      -0.288       0.214\n",
       "c_charge_degree[T.M]    -0.4953      0.106     -4.682      0.000      -0.703      -0.288\n",
       "age                     -0.1396      0.007    -19.506      0.000      -0.154      -0.126\n",
       "priors_count             0.3782      0.016     23.279      0.000       0.346       0.410\n",
       "========================================================================================\n",
       "\"\"\""
      ]
     },
     "execution_count": 25,
     "metadata": {},
     "output_type": "execute_result"
    }
   ],
   "source": [
    "# evaluate conditional statistical parity\n",
    "# following ProPublica's analysis, X may contain: age, gender, number of prior offenses, and severity of charge\n",
    "# they can be used as control variables in a logistic regression of predicted risk score on race\n",
    "import statsmodels.formula.api as smf\n",
    "# convert score_text to 1 and 0\n",
    "compas_binary['Y'] = compas_binary['score_text'].apply(lambda x: 1 if x == 'High' else 0)\n",
    "model = smf.logit(formula = \"Y ~ race + age + sex + priors_count + c_charge_degree\", data = compas_binary).fit()\n",
    "model.summary()\n"
   ]
  },
  {
   "cell_type": "markdown",
   "metadata": {},
   "source": [
    "We can see that even after controlling for age, gender, prior offenses and the severity of charge, being African American still significantly increased the odds of receiving high-risk predictions. This is a violation of conditional statistical parity."
   ]
  },
  {
   "cell_type": "markdown",
   "metadata": {},
   "source": [
    "### Error Balance / Equalized Odds"
   ]
  },
  {
   "cell_type": "markdown",
   "metadata": {},
   "source": [
    "Statistical parity (with or without conditioning on other observable characteristics) aims to balance the predicted outcomes of two groups. Fairness measures like these reflect the _Equal Outcome_ ideal. In contrast, many other fairness measures are designed to reflect the _Equal Opportunity_ ideal (that different groups are treated equally, even though their outcomes may differ). **Error Balance** or **Equalized Odds** is one of such measures."
   ]
  },
  {
   "cell_type": "markdown",
   "metadata": {},
   "source": [
    "Roughly speaking, error balance asserts that a classifier should not be systematically more inaccurate for one group vs. the other group. Specifically, one way to quantify it is to check whether the false positive rate and false negative rate are the same for the two groups. More formally,"
   ]
  },
  {
   "cell_type": "markdown",
   "metadata": {},
   "source": [
    "```{admonition} Definition: Error Balance / Equalized Odds\n",
    ":class: tip\n",
    "\\begin{align*}\n",
    "\\Pr(\\widehat{Y} = High | R = AA, Y = 0) & = \\Pr(\\widehat{Y} = High | R = W, Y = 0) \\\\\n",
    "\\Pr(\\widehat{Y} = Low | R = AA, Y = 1) & = \\Pr(\\widehat{Y} = Low | R = W, Y = 1)\n",
    "\\end{align*}\n",
    "```"
   ]
  },
  {
   "cell_type": "code",
   "execution_count": 7,
   "metadata": {},
   "outputs": [
    {
     "name": "stdout",
     "output_type": "stream",
     "text": [
      "False Positive Rate for African Americans:  0.18793273986152326\n",
      "False Negative Rate for African Americans:  0.4449152542372881\n",
      "False Positive Rate for Whites:  0.0549558390578999\n",
      "False Negative Rate for Whites:  0.7266775777414075\n"
     ]
    }
   ],
   "source": [
    "# evaluate FPR and FNR for both groups\n",
    "FPR_AA = len(compas_binary[(compas_binary['score_text'] == 'High') & (compas_binary['race'] == 'African-American') & (compas_binary['is_recid'] == 0)]) / len(compas_binary[(compas_binary['race'] == 'African-American') & (compas_binary['is_recid'] == 0)])\n",
    "FNR_AA = len(compas_binary[(compas_binary['score_text'] == 'Low') & (compas_binary['race'] == 'African-American') & (compas_binary['is_recid'] == 1)]) / len(compas_binary[(compas_binary['race'] == 'African-American') & (compas_binary['is_recid'] == 1)])\n",
    "FPR_W = len(compas_binary[(compas_binary['score_text'] == 'High') & (compas_binary['race'] == 'Caucasian') & (compas_binary['is_recid'] == 0)]) / len(compas_binary[(compas_binary['race'] == 'Caucasian') & (compas_binary['is_recid'] == 0)])\n",
    "FNR_W = len(compas_binary[(compas_binary['score_text'] == 'Low') & (compas_binary['race'] == 'Caucasian') & (compas_binary['is_recid'] == 1)]) / len(compas_binary[(compas_binary['race'] == 'Caucasian') & (compas_binary['is_recid'] == 1)])\n",
    "# print results\n",
    "print(\"False Positive Rate for African Americans: \", FPR_AA)\n",
    "print(\"False Negative Rate for African Americans: \", FNR_AA)\n",
    "print(\"False Positive Rate for Whites: \", FPR_W)\n",
    "print(\"False Negative Rate for Whites: \", FNR_W)"
   ]
  },
  {
   "cell_type": "markdown",
   "metadata": {},
   "source": [
    "Here, we see that the predicted risk is systematically more inaccurate for African Americans in the undesirable direction. Specifically, the model makes more false positive mistakes (i.e., misclassify a low-risk defendent as high-risk) for African Americans but makes more false negative mistakes (i.e., misclassify a high-risk defendent as low-risk) for Whites. In fact, this is one of ProPublica's main arguments to show the unfairness of COMPAS {cite:p}`angwin2016machine`."
   ]
  },
  {
   "cell_type": "markdown",
   "metadata": {},
   "source": [
    "Just like in the case of statistical parity, you can further condition on other observables to construct a **conditional** version of error balance / equalized odds. Technically speaking, this amounts to running a logistic regression with (i) observed characteristics and (ii) the actual recidivism labels as control variables."
   ]
  },
  {
   "cell_type": "code",
   "execution_count": 12,
   "metadata": {},
   "outputs": [
    {
     "name": "stdout",
     "output_type": "stream",
     "text": [
      "Optimization terminated successfully.\n",
      "         Current function value: 0.350152\n",
      "         Iterations 8\n"
     ]
    },
    {
     "data": {
      "text/html": [
       "<table class=\"simpletable\">\n",
       "<caption>Logit Regression Results</caption>\n",
       "<tr>\n",
       "  <th>Dep. Variable:</th>           <td>Y</td>        <th>  No. Observations:  </th>  <td>  3821</td> \n",
       "</tr>\n",
       "<tr>\n",
       "  <th>Model:</th>                 <td>Logit</td>      <th>  Df Residuals:      </th>  <td>  3814</td> \n",
       "</tr>\n",
       "<tr>\n",
       "  <th>Method:</th>                 <td>MLE</td>       <th>  Df Model:          </th>  <td>     6</td> \n",
       "</tr>\n",
       "<tr>\n",
       "  <th>Date:</th>            <td>Thu, 09 May 2024</td> <th>  Pseudo R-squ.:     </th>  <td>0.4090</td> \n",
       "</tr>\n",
       "<tr>\n",
       "  <th>Time:</th>                <td>11:03:46</td>     <th>  Log-Likelihood:    </th> <td> -1337.9</td>\n",
       "</tr>\n",
       "<tr>\n",
       "  <th>converged:</th>             <td>True</td>       <th>  LL-Null:           </th> <td> -2263.9</td>\n",
       "</tr>\n",
       "<tr>\n",
       "  <th>Covariance Type:</th>     <td>nonrobust</td>    <th>  LLR p-value:       </th>  <td> 0.000</td> \n",
       "</tr>\n",
       "</table>\n",
       "<table class=\"simpletable\">\n",
       "<tr>\n",
       "            <td></td>              <th>coef</th>     <th>std err</th>      <th>z</th>      <th>P>|z|</th>  <th>[0.025</th>    <th>0.975]</th>  \n",
       "</tr>\n",
       "<tr>\n",
       "  <th>Intercept</th>            <td>    1.9112</td> <td>    0.236</td> <td>    8.111</td> <td> 0.000</td> <td>    1.449</td> <td>    2.373</td>\n",
       "</tr>\n",
       "<tr>\n",
       "  <th>race[T.Caucasian]</th>    <td>   -0.6357</td> <td>    0.107</td> <td>   -5.965</td> <td> 0.000</td> <td>   -0.845</td> <td>   -0.427</td>\n",
       "</tr>\n",
       "<tr>\n",
       "  <th>sex[T.Male]</th>          <td>   -0.1420</td> <td>    0.131</td> <td>   -1.082</td> <td> 0.279</td> <td>   -0.399</td> <td>    0.115</td>\n",
       "</tr>\n",
       "<tr>\n",
       "  <th>c_charge_degree[T.M]</th> <td>   -0.5019</td> <td>    0.107</td> <td>   -4.669</td> <td> 0.000</td> <td>   -0.713</td> <td>   -0.291</td>\n",
       "</tr>\n",
       "<tr>\n",
       "  <th>age</th>                  <td>   -0.1280</td> <td>    0.007</td> <td>  -17.951</td> <td> 0.000</td> <td>   -0.142</td> <td>   -0.114</td>\n",
       "</tr>\n",
       "<tr>\n",
       "  <th>priors_count</th>         <td>    0.3429</td> <td>    0.016</td> <td>   21.095</td> <td> 0.000</td> <td>    0.311</td> <td>    0.375</td>\n",
       "</tr>\n",
       "<tr>\n",
       "  <th>is_recid</th>             <td>    0.8904</td> <td>    0.103</td> <td>    8.686</td> <td> 0.000</td> <td>    0.690</td> <td>    1.091</td>\n",
       "</tr>\n",
       "</table>"
      ],
      "text/plain": [
       "<class 'statsmodels.iolib.summary.Summary'>\n",
       "\"\"\"\n",
       "                           Logit Regression Results                           \n",
       "==============================================================================\n",
       "Dep. Variable:                      Y   No. Observations:                 3821\n",
       "Model:                          Logit   Df Residuals:                     3814\n",
       "Method:                           MLE   Df Model:                            6\n",
       "Date:                Thu, 09 May 2024   Pseudo R-squ.:                  0.4090\n",
       "Time:                        11:03:46   Log-Likelihood:                -1337.9\n",
       "converged:                       True   LL-Null:                       -2263.9\n",
       "Covariance Type:            nonrobust   LLR p-value:                     0.000\n",
       "========================================================================================\n",
       "                           coef    std err          z      P>|z|      [0.025      0.975]\n",
       "----------------------------------------------------------------------------------------\n",
       "Intercept                1.9112      0.236      8.111      0.000       1.449       2.373\n",
       "race[T.Caucasian]       -0.6357      0.107     -5.965      0.000      -0.845      -0.427\n",
       "sex[T.Male]             -0.1420      0.131     -1.082      0.279      -0.399       0.115\n",
       "c_charge_degree[T.M]    -0.5019      0.107     -4.669      0.000      -0.713      -0.291\n",
       "age                     -0.1280      0.007    -17.951      0.000      -0.142      -0.114\n",
       "priors_count             0.3429      0.016     21.095      0.000       0.311       0.375\n",
       "is_recid                 0.8904      0.103      8.686      0.000       0.690       1.091\n",
       "========================================================================================\n",
       "\"\"\""
      ]
     },
     "execution_count": 12,
     "metadata": {},
     "output_type": "execute_result"
    }
   ],
   "source": [
    "# evaluate conditional error balance / equalized odds\n",
    "import statsmodels.formula.api as smf\n",
    "# convert score_text to 1 and 0\n",
    "compas_binary['Y'] = compas_binary['score_text'].apply(lambda x: 1 if x == 'High' else 0)\n",
    "model = smf.logit(formula = \"Y ~ race + age + sex + priors_count + c_charge_degree + is_recid\", data = compas_binary).fit()\n",
    "model.summary()"
   ]
  },
  {
   "cell_type": "markdown",
   "metadata": {},
   "source": [
    "It is worth mentioning that another way to define error balance makes use of **predicted probabilities** rather than class predictions. It seeks to equalize the expected predicted probabilities of different groups conditioning on true labels (see, for example, {cite:t}`kleinberg2016inherent`). More formally,"
   ]
  },
  {
   "cell_type": "markdown",
   "metadata": {},
   "source": [
    "```{admonition} Definition: Error Balance / Equalized Odds (with predicted probabilities)\n",
    ":class: tip\n",
    "\\begin{align*}\n",
    "\\mathbb{E}(p | R = AA, Y = 0) & = \\mathbb{E}(p | R = W, Y = 0) \\\\\n",
    "\\mathbb{E}(p | R = AA, Y = 1) & = \\mathbb{E}(p | R = W, Y = 1)\n",
    "\\end{align*}\n",
    "```"
   ]
  },
  {
   "cell_type": "code",
   "execution_count": 10,
   "metadata": {},
   "outputs": [
    {
     "name": "stdout",
     "output_type": "stream",
     "text": [
      "Average decile score for African Americans who did not recidivate:  3.4896142433234423\n",
      "Average decile score for African Americans who recidivated:  6.188135593220339\n",
      "Average decile score for Whites who did not recidivate:  2.334641805691855\n",
      "Average decile score for Whites who recidivated:  4.11620294599018\n"
     ]
    }
   ],
   "source": [
    "# evaluate error balance with predicted probabilities\n",
    "# we will use \"decile_score\" to approximate the predicted probability of recidivism\n",
    "# COMPAS predicts \"High\" risk when decile score is greater than 7 and \"Low\" if the decile score is lower than 5\n",
    "# print average decile_score for African Americans and Whites\n",
    "AA_0_avg = compas_binary[(compas_binary['race'] == 'African-American') & (compas_binary['is_recid'] == 0)]['decile_score'].mean()\n",
    "AA_1_avg = compas_binary[(compas_binary['race'] == 'African-American') & (compas_binary['is_recid'] == 1)]['decile_score'].mean()\n",
    "W_0_avg = compas_binary[(compas_binary['race'] == 'Caucasian') & (compas_binary['is_recid'] == 0)]['decile_score'].mean()\n",
    "W_1_avg = compas_binary[(compas_binary['race'] == 'Caucasian') & (compas_binary['is_recid'] == 1)]['decile_score'].mean()\n",
    "# print results\n",
    "print(\"Average decile score for African Americans who did not recidivate: \", AA_0_avg)\n",
    "print(\"Average decile score for African Americans who recidivated: \", AA_1_avg)\n",
    "print(\"Average decile score for Whites who did not recidivate: \", W_0_avg)\n",
    "print(\"Average decile score for Whites who recidivated: \", W_1_avg)"
   ]
  },
  {
   "cell_type": "markdown",
   "metadata": {},
   "source": [
    "Again, we see that the model systematically assigned higher decile scores to African Americans who did not recidivate, but lower scores to Whites who did recidivate."
   ]
  },
  {
   "cell_type": "markdown",
   "metadata": {},
   "source": [
    "### Calibration"
   ]
  },
  {
   "cell_type": "markdown",
   "metadata": {},
   "source": [
    "Equal calibration represents another fairness measure that relies on predicted probabilities. It refers to a property of classification models, known as **calibration**, which requires the predicted probabilities to be \"accurate\" in the sense that they reflect the actual event rate. For example, suppose a well-calibrated model assigns a predicted probability of 70\\% (of being in positive class) to 10 data points, then you would expect 7 out of those data points to actually belong to the positive class. Calibration is a desierable property because it allows users to intuitively interpret the predicted probabilities as actual event rates. Conversely, predicted probabilities from a poorly calibrated model may systematically overestimate or underestimate the actual event rates."
   ]
  },
  {
   "cell_type": "markdown",
   "metadata": {},
   "source": [
    "Adapting the notion of calibration for fairness measurement, we say that a classifier achieves equal calibration if predictions from the two groups are both well-calibrated. More formally,"
   ]
  },
  {
   "cell_type": "markdown",
   "metadata": {},
   "source": [
    "```{admonition} Definition: Equal Calibration\n",
    ":class: tip\n",
    "$$\n",
    "\\mathbb{E}(Y | p, R = AA) = \\mathbb{E}(Y | p, R = W) = p\n",
    "$$\n",
    "```"
   ]
  },
  {
   "cell_type": "code",
   "execution_count": 20,
   "metadata": {},
   "outputs": [
    {
     "data": {
      "image/png": "[encoded data removed]",
      "text/plain": [
       "<Figure size 640x480 with 1 Axes>"
      ]
     },
     "metadata": {},
     "output_type": "display_data"
    }
   ],
   "source": [
    "# evaluate calibration\n",
    "# we will again use decile_score as the predicted probability of recidivism\n",
    "# we will visualize the percentage of recidivism for each decile score and racial group\n",
    "import matplotlib.pyplot as plt\n",
    "# group by decile score and race, then calculate the average value of is_recid\n",
    "calibration = compas_binary.groupby(['decile_score', 'race'])['is_recid'].mean().reset_index()\n",
    "X = calibration['decile_score'].unique()\n",
    "Y_AA = calibration[calibration['race'] == \"African-American\"]['is_recid']\n",
    "Y_W = calibration[calibration['race'] == \"Caucasian\"]['is_recid']\n",
    "# plot average recidivism rate for each decile score and the two groups\n",
    "width = 0.4\n",
    "plt.bar(X, Y_AA, width, label = \"African-American\")\n",
    "plt.bar(X + width, Y_W, width, label = \"Caucasian\")\n",
    "plt.xlabel(\"Decile Score\")\n",
    "plt.ylabel(\"Recidivism Rate\")\n",
    "plt.xticks(X + width / 2, X)\n",
    "plt.legend()\n",
    "plt.show()"
   ]
  },
  {
   "cell_type": "markdown",
   "metadata": {},
   "source": [
    "Interestingly, we see that the average recidivism rates across different deciles are somewhat similar between the two groups. Among low-risk deciles, the model seems to underestimate the actual recidivism risks for both groups. Among high-risk deciles, it seems to overestimate the risks. Overall, we do not see a very clear pattern and in fact, this is one of COMPAS' counter-arguments to ProPublica, i.e., their risk tool is similarly calibrated for both racial groups {cite:p}`dieterich2016compas`."
   ]
  }
 ],
 "metadata": {
  "kernelspec": {
   "display_name": "Python 3",
   "language": "python",
   "name": "python3"
  },
  "language_info": {
   "codemirror_mode": {
    "name": "ipython",
    "version": 3
   },
   "file_extension": ".py",
   "mimetype": "text/x-python",
   "name": "python",
   "nbconvert_exporter": "python",
   "pygments_lexer": "ipython3",
   "version": "3.10.13"
  },
  "widgets": {
   "application/vnd.jupyter.widget-state+json": {
    "state": {},
    "version_major": 2,
    "version_minor": 0
   }
  }
 },
 "nbformat": 4,
 "nbformat_minor": 4
}
