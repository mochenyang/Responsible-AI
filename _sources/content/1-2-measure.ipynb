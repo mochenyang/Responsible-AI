{
 "cells": [
  {
   "cell_type": "markdown",
   "metadata": {},
   "source": [
    "# Measuring Fairness"
   ]
  },
  {
   "cell_type": "markdown",
   "metadata": {},
   "source": [
    "The first step to addressing algorithmic bias is to be able to measure the degree of fairness (or lack thereof) in a given dataset. This chapter covers a number of commonly used fairness measures. For concreteness, we will demonstrate these fairness measures by calculating them on the [Compas Recidivism Dataset](https://www.propublica.org/datastore/dataset/compas-recidivism-risk-score-data-and-analysis)."
   ]
  },
  {
   "cell_type": "markdown",
   "metadata": {},
   "source": [
    "```{admonition} Data: Compas Recidivism Dataset\n",
    ":class: note\n",
    "- Location: \"data/compas-scores-two-years.csv\"\n",
    "- Shape: (7214, 53)\n",
    "- Note: data taken from ProPublica's analyses of COMPAS\n",
    "```"
   ]
  },
  {
   "cell_type": "markdown",
   "metadata": {},
   "source": [
    "The following script imports the dataset and prints the first few rows."
   ]
  },
  {
   "cell_type": "code",
   "execution_count": 2,
   "metadata": {},
   "outputs": [
    {
     "data": {
      "text/html": [
       "<div>\n",
       "<style scoped>\n",
       "    .dataframe tbody tr th:only-of-type {\n",
       "        vertical-align: middle;\n",
       "    }\n",
       "\n",
       "    .dataframe tbody tr th {\n",
       "        vertical-align: top;\n",
       "    }\n",
       "\n",
       "    .dataframe thead th {\n",
       "        text-align: right;\n",
       "    }\n",
       "</style>\n",
       "<table border=\"1\" class=\"dataframe\">\n",
       "  <thead>\n",
       "    <tr style=\"text-align: right;\">\n",
       "      <th></th>\n",
       "      <th>id</th>\n",
       "      <th>name</th>\n",
       "      <th>first</th>\n",
       "      <th>last</th>\n",
       "      <th>compas_screening_date</th>\n",
       "      <th>sex</th>\n",
       "      <th>dob</th>\n",
       "      <th>age</th>\n",
       "      <th>age_cat</th>\n",
       "      <th>race</th>\n",
       "      <th>...</th>\n",
       "      <th>v_decile_score</th>\n",
       "      <th>v_score_text</th>\n",
       "      <th>v_screening_date</th>\n",
       "      <th>in_custody</th>\n",
       "      <th>out_custody</th>\n",
       "      <th>priors_count.1</th>\n",
       "      <th>start</th>\n",
       "      <th>end</th>\n",
       "      <th>event</th>\n",
       "      <th>two_year_recid</th>\n",
       "    </tr>\n",
       "  </thead>\n",
       "  <tbody>\n",
       "    <tr>\n",
       "      <th>0</th>\n",
       "      <td>1</td>\n",
       "      <td>miguel hernandez</td>\n",
       "      <td>miguel</td>\n",
       "      <td>hernandez</td>\n",
       "      <td>2013-08-14</td>\n",
       "      <td>Male</td>\n",
       "      <td>1947-04-18</td>\n",
       "      <td>69</td>\n",
       "      <td>Greater than 45</td>\n",
       "      <td>Other</td>\n",
       "      <td>...</td>\n",
       "      <td>1</td>\n",
       "      <td>Low</td>\n",
       "      <td>2013-08-14</td>\n",
       "      <td>2014-07-07</td>\n",
       "      <td>2014-07-14</td>\n",
       "      <td>0</td>\n",
       "      <td>0</td>\n",
       "      <td>327</td>\n",
       "      <td>0</td>\n",
       "      <td>0</td>\n",
       "    </tr>\n",
       "    <tr>\n",
       "      <th>1</th>\n",
       "      <td>3</td>\n",
       "      <td>kevon dixon</td>\n",
       "      <td>kevon</td>\n",
       "      <td>dixon</td>\n",
       "      <td>2013-01-27</td>\n",
       "      <td>Male</td>\n",
       "      <td>1982-01-22</td>\n",
       "      <td>34</td>\n",
       "      <td>25 - 45</td>\n",
       "      <td>African-American</td>\n",
       "      <td>...</td>\n",
       "      <td>1</td>\n",
       "      <td>Low</td>\n",
       "      <td>2013-01-27</td>\n",
       "      <td>2013-01-26</td>\n",
       "      <td>2013-02-05</td>\n",
       "      <td>0</td>\n",
       "      <td>9</td>\n",
       "      <td>159</td>\n",
       "      <td>1</td>\n",
       "      <td>1</td>\n",
       "    </tr>\n",
       "    <tr>\n",
       "      <th>2</th>\n",
       "      <td>4</td>\n",
       "      <td>ed philo</td>\n",
       "      <td>ed</td>\n",
       "      <td>philo</td>\n",
       "      <td>2013-04-14</td>\n",
       "      <td>Male</td>\n",
       "      <td>1991-05-14</td>\n",
       "      <td>24</td>\n",
       "      <td>Less than 25</td>\n",
       "      <td>African-American</td>\n",
       "      <td>...</td>\n",
       "      <td>3</td>\n",
       "      <td>Low</td>\n",
       "      <td>2013-04-14</td>\n",
       "      <td>2013-06-16</td>\n",
       "      <td>2013-06-16</td>\n",
       "      <td>4</td>\n",
       "      <td>0</td>\n",
       "      <td>63</td>\n",
       "      <td>0</td>\n",
       "      <td>1</td>\n",
       "    </tr>\n",
       "    <tr>\n",
       "      <th>3</th>\n",
       "      <td>5</td>\n",
       "      <td>marcu brown</td>\n",
       "      <td>marcu</td>\n",
       "      <td>brown</td>\n",
       "      <td>2013-01-13</td>\n",
       "      <td>Male</td>\n",
       "      <td>1993-01-21</td>\n",
       "      <td>23</td>\n",
       "      <td>Less than 25</td>\n",
       "      <td>African-American</td>\n",
       "      <td>...</td>\n",
       "      <td>6</td>\n",
       "      <td>Medium</td>\n",
       "      <td>2013-01-13</td>\n",
       "      <td>NaN</td>\n",
       "      <td>NaN</td>\n",
       "      <td>1</td>\n",
       "      <td>0</td>\n",
       "      <td>1174</td>\n",
       "      <td>0</td>\n",
       "      <td>0</td>\n",
       "    </tr>\n",
       "    <tr>\n",
       "      <th>4</th>\n",
       "      <td>6</td>\n",
       "      <td>bouthy pierrelouis</td>\n",
       "      <td>bouthy</td>\n",
       "      <td>pierrelouis</td>\n",
       "      <td>2013-03-26</td>\n",
       "      <td>Male</td>\n",
       "      <td>1973-01-22</td>\n",
       "      <td>43</td>\n",
       "      <td>25 - 45</td>\n",
       "      <td>Other</td>\n",
       "      <td>...</td>\n",
       "      <td>1</td>\n",
       "      <td>Low</td>\n",
       "      <td>2013-03-26</td>\n",
       "      <td>NaN</td>\n",
       "      <td>NaN</td>\n",
       "      <td>2</td>\n",
       "      <td>0</td>\n",
       "      <td>1102</td>\n",
       "      <td>0</td>\n",
       "      <td>0</td>\n",
       "    </tr>\n",
       "  </tbody>\n",
       "</table>\n",
       "<p>5 rows × 53 columns</p>\n",
       "</div>"
      ],
      "text/plain": [
       "   id                name   first         last compas_screening_date   sex  \\\n",
       "0   1    miguel hernandez  miguel    hernandez            2013-08-14  Male   \n",
       "1   3         kevon dixon   kevon        dixon            2013-01-27  Male   \n",
       "2   4            ed philo      ed        philo            2013-04-14  Male   \n",
       "3   5         marcu brown   marcu        brown            2013-01-13  Male   \n",
       "4   6  bouthy pierrelouis  bouthy  pierrelouis            2013-03-26  Male   \n",
       "\n",
       "          dob  age          age_cat              race  ...  v_decile_score  \\\n",
       "0  1947-04-18   69  Greater than 45             Other  ...               1   \n",
       "1  1982-01-22   34          25 - 45  African-American  ...               1   \n",
       "2  1991-05-14   24     Less than 25  African-American  ...               3   \n",
       "3  1993-01-21   23     Less than 25  African-American  ...               6   \n",
       "4  1973-01-22   43          25 - 45             Other  ...               1   \n",
       "\n",
       "   v_score_text  v_screening_date  in_custody  out_custody  priors_count.1  \\\n",
       "0           Low        2013-08-14  2014-07-07   2014-07-14               0   \n",
       "1           Low        2013-01-27  2013-01-26   2013-02-05               0   \n",
       "2           Low        2013-04-14  2013-06-16   2013-06-16               4   \n",
       "3        Medium        2013-01-13         NaN          NaN               1   \n",
       "4           Low        2013-03-26         NaN          NaN               2   \n",
       "\n",
       "  start   end event two_year_recid  \n",
       "0     0   327     0              0  \n",
       "1     9   159     1              1  \n",
       "2     0    63     0              1  \n",
       "3     0  1174     0              0  \n",
       "4     0  1102     0              0  \n",
       "\n",
       "[5 rows x 53 columns]"
      ]
     },
     "execution_count": 2,
     "metadata": {},
     "output_type": "execute_result"
    }
   ],
   "source": [
    "# import compas two-year dataset\n",
    "import pandas as pd\n",
    "compas = pd.read_csv('../data/compas-scores-two-years.csv')\n",
    "compas.head()"
   ]
  },
  {
   "cell_type": "code",
   "execution_count": 3,
   "metadata": {},
   "outputs": [
    {
     "data": {
      "text/plain": [
       "(6172, 13)"
      ]
     },
     "execution_count": 3,
     "metadata": {},
     "output_type": "execute_result"
    }
   ],
   "source": [
    "# following the ProPublica analysis, we remove several rows with missing data\n",
    "# see https://github.com/propublica/compas-analysis/blob/master/Compas%20Analysis.ipynb for more details\n",
    "compas = compas[['age', 'c_charge_degree', 'race', 'age_cat', 'score_text', 'sex', 'priors_count', 'days_b_screening_arrest', 'decile_score', 'is_recid', 'two_year_recid', 'c_jail_in', 'c_jail_out']]\n",
    "compas = compas[(compas['days_b_screening_arrest'] <= 30) & \n",
    "                (compas['days_b_screening_arrest'] >= -30) &  \n",
    "                (compas['is_recid'] != -1) &\n",
    "                (compas['c_charge_degree'] != 'O') & \n",
    "                (compas['score_text'] != 'N/A')]\n",
    "compas.shape"
   ]
  },
  {
   "cell_type": "code",
   "execution_count": 4,
   "metadata": {},
   "outputs": [
    {
     "data": {
      "text/plain": [
       "(5278, 13)"
      ]
     },
     "execution_count": 4,
     "metadata": {},
     "output_type": "execute_result"
    }
   ],
   "source": [
    "# finally, we focus on \"race\" as the protected attribute and African American vs. Caucasian as the two groups\n",
    "compas = compas[compas['race'].isin(['African-American', 'Caucasian'])]\n",
    "compas.shape"
   ]
  },
  {
   "cell_type": "markdown",
   "metadata": {},
   "source": [
    "## Fairness Measures for Binary Classifier"
   ]
  },
  {
   "cell_type": "markdown",
   "metadata": {},
   "source": [
    "To begin with, we consider measuring fairness of a classification model. In the ```Compas``` dataset, the ```score_text``` columns contains model-predicted risk level (low, medium, high) and the ```two_year_recid``` column contains the actual two-year recidivism label (1, 0). Because the ground-truth outcome label is binary, we focus on the \"low\" and \"high\" predicted classes here.[^footnote1]"
   ]
  },
  {
   "cell_type": "code",
   "execution_count": 5,
   "metadata": {},
   "outputs": [],
   "source": [
    "compas_binary = compas.copy()\n",
    "# remove \"medium\" in score_text\n",
    "compas_binary = compas_binary[compas_binary['score_text'] != 'Medium']"
   ]
  },
  {
   "cell_type": "markdown",
   "metadata": {},
   "source": [
    "Throughout this chapter, we adopt the following notations in formal definitions of different fairness measures:"
   ]
  },
  {
   "cell_type": "markdown",
   "metadata": {},
   "source": [
    "```{admonition} Notations\n",
    ":class: tip\n",
    "- $Y$: actual outcome (0/1, recidivism without two years or not);\n",
    "- $\\widehat{Y}$: predicted risk score (\"High\" or \"Low\");\n",
    "- $p$: predicted probability of being \"High\" risk;\n",
    "- $R$: race, protected attribute of interested in this example. $R \\in \\{AA, W\\}$ represents African American and Caucasian respectively;\n",
    "- $\\boldsymbol{X}$: other observable characteristics (e.g., gender, age, prior offenses).\n",
    "```"
   ]
  },
  {
   "cell_type": "markdown",
   "metadata": {},
   "source": [
    "### Demographic Parity"
   ]
  },
  {
   "cell_type": "markdown",
   "metadata": {},
   "source": [
    "**Demographic parity** (sometimes also referred to as **Statistical Parity**) is one of the most straightforward fairness measures. It simply asserts that one group should not receive systematically more favorable predicted outcomes than the other group. Despite its simplicity, it has been extensively used / discussed in the prior literature, such as {cite:t}`calders2010three,calders2009building,kamiran2009classifying,kamishima2011fairness`, among many others.\n",
    "\n",
    "In the context of recidivism prediction, with the protected attribute being race and the two groups to be compared being African American vs. White, demographic parity can be defined as:"
   ]
  },
  {
   "cell_type": "markdown",
   "metadata": {},
   "source": [
    "```{admonition} Definition: Demographic Parity for Binary Classifier\n",
    ":class: tip\n",
    "$$\n",
    "\\Pr(\\widehat{Y} = High | R = AA) = \\Pr(\\widehat{Y} = High | R = W)\n",
    "$$\n",
    "```"
   ]
  },
  {
   "cell_type": "code",
   "execution_count": 6,
   "metadata": {},
   "outputs": [
    {
     "name": "stdout",
     "output_type": "stream",
     "text": [
      "Percentage of 'high' predicted scores among African Americans:  0.38566864445458693\n",
      "Percentage of 'high' predicted scores among Whites:  0.13680981595092023\n"
     ]
    }
   ],
   "source": [
    "# evaluate demographic parity\n",
    "# percentage of \"high\" scores among African Americans\n",
    "AA_pct = len(compas_binary[(compas_binary['score_text'] == 'High') & (compas_binary['race'] == 'African-American')]) / len(compas_binary[compas_binary['race'] == 'African-American'])\n",
    "# percentage of \"high\" scores among Whites\n",
    "W_pct = len(compas_binary[(compas_binary['score_text'] == 'High') & (compas_binary['race'] == 'Caucasian')]) / len(compas_binary[compas_binary['race'] == 'Caucasian'])\n",
    "print(\"Percentage of 'high' predicted scores among African Americans: \", AA_pct)\n",
    "print(\"Percentage of 'high' predicted scores among Whites: \", W_pct)"
   ]
  },
  {
   "cell_type": "markdown",
   "metadata": {},
   "source": [
    "As we can see, around 38.6\\% of African American defendents received high-risk predictions whereas only 13.7\\% of White defendents received high-risk predictions. This is a violation of demographic parity."
   ]
  },
  {
   "cell_type": "markdown",
   "metadata": {},
   "source": [
    "### Conditional Demographic Parity"
   ]
  },
  {
   "cell_type": "markdown",
   "metadata": {},
   "source": [
    "Demographic parity is a rather crude measure and, specifically, does not take into account any systematic differences across the two groups that may legitimately explain some of the disparity in predicted outcomes. **Conditional Demographic Parity** seeks to amend this issue by conditioning on other observable characteristics. It has also been discussed in prior literature, including for example, {cite:t}`vzliobaite2011handling,kamiran2013quantifying`."
   ]
  },
  {
   "cell_type": "markdown",
   "metadata": {},
   "source": [
    "```{admonition} Definition: Conditional Demographic Parity for Binary Classifier\n",
    ":class: tip\n",
    "$$\n",
    "\\Pr(\\widehat{Y} = High | R = AA, \\boldsymbol{X}) = \\Pr(\\widehat{Y} = High | R = W, \\boldsymbol{X})\n",
    "$$\n",
    "```"
   ]
  },
  {
   "cell_type": "code",
   "execution_count": 6,
   "metadata": {},
   "outputs": [
    {
     "name": "stdout",
     "output_type": "stream",
     "text": [
      "Optimization terminated successfully.\n",
      "         Current function value: 0.360191\n",
      "         Iterations 8\n"
     ]
    },
    {
     "data": {
      "text/html": [
       "<table class=\"simpletable\">\n",
       "<caption>Logit Regression Results</caption>\n",
       "<tr>\n",
       "  <th>Dep. Variable:</th>           <td>Y</td>        <th>  No. Observations:  </th>  <td>  3821</td> \n",
       "</tr>\n",
       "<tr>\n",
       "  <th>Model:</th>                 <td>Logit</td>      <th>  Df Residuals:      </th>  <td>  3815</td> \n",
       "</tr>\n",
       "<tr>\n",
       "  <th>Method:</th>                 <td>MLE</td>       <th>  Df Model:          </th>  <td>     5</td> \n",
       "</tr>\n",
       "<tr>\n",
       "  <th>Date:</th>            <td>Thu, 07 Aug 2025</td> <th>  Pseudo R-squ.:     </th>  <td>0.3921</td> \n",
       "</tr>\n",
       "<tr>\n",
       "  <th>Time:</th>                <td>12:30:39</td>     <th>  Log-Likelihood:    </th> <td> -1376.3</td>\n",
       "</tr>\n",
       "<tr>\n",
       "  <th>converged:</th>             <td>True</td>       <th>  LL-Null:           </th> <td> -2263.9</td>\n",
       "</tr>\n",
       "<tr>\n",
       "  <th>Covariance Type:</th>     <td>nonrobust</td>    <th>  LLR p-value:       </th>  <td> 0.000</td> \n",
       "</tr>\n",
       "</table>\n",
       "<table class=\"simpletable\">\n",
       "<tr>\n",
       "            <td></td>              <th>coef</th>     <th>std err</th>      <th>z</th>      <th>P>|z|</th>  <th>[0.025</th>    <th>0.975]</th>  \n",
       "</tr>\n",
       "<tr>\n",
       "  <th>Intercept</th>            <td>    2.5816</td> <td>    0.224</td> <td>   11.531</td> <td> 0.000</td> <td>    2.143</td> <td>    3.020</td>\n",
       "</tr>\n",
       "<tr>\n",
       "  <th>race[T.Caucasian]</th>    <td>   -0.6532</td> <td>    0.105</td> <td>   -6.229</td> <td> 0.000</td> <td>   -0.859</td> <td>   -0.448</td>\n",
       "</tr>\n",
       "<tr>\n",
       "  <th>sex[T.Male]</th>          <td>   -0.0371</td> <td>    0.128</td> <td>   -0.290</td> <td> 0.772</td> <td>   -0.288</td> <td>    0.214</td>\n",
       "</tr>\n",
       "<tr>\n",
       "  <th>c_charge_degree[T.M]</th> <td>   -0.4953</td> <td>    0.106</td> <td>   -4.682</td> <td> 0.000</td> <td>   -0.703</td> <td>   -0.288</td>\n",
       "</tr>\n",
       "<tr>\n",
       "  <th>age</th>                  <td>   -0.1396</td> <td>    0.007</td> <td>  -19.506</td> <td> 0.000</td> <td>   -0.154</td> <td>   -0.126</td>\n",
       "</tr>\n",
       "<tr>\n",
       "  <th>priors_count</th>         <td>    0.3782</td> <td>    0.016</td> <td>   23.279</td> <td> 0.000</td> <td>    0.346</td> <td>    0.410</td>\n",
       "</tr>\n",
       "</table>"
      ],
      "text/latex": [
       "\\begin{center}\n",
       "\\begin{tabular}{lclc}\n",
       "\\toprule\n",
       "\\textbf{Dep. Variable:}         &        Y         & \\textbf{  No. Observations:  } &     3821    \\\\\n",
       "\\textbf{Model:}                 &      Logit       & \\textbf{  Df Residuals:      } &     3815    \\\\\n",
       "\\textbf{Method:}                &       MLE        & \\textbf{  Df Model:          } &        5    \\\\\n",
       "\\textbf{Date:}                  & Thu, 07 Aug 2025 & \\textbf{  Pseudo R-squ.:     } &   0.3921    \\\\\n",
       "\\textbf{Time:}                  &     12:30:39     & \\textbf{  Log-Likelihood:    } &   -1376.3   \\\\\n",
       "\\textbf{converged:}             &       True       & \\textbf{  LL-Null:           } &   -2263.9   \\\\\n",
       "\\textbf{Covariance Type:}       &    nonrobust     & \\textbf{  LLR p-value:       } &    0.000    \\\\\n",
       "\\bottomrule\n",
       "\\end{tabular}\n",
       "\\begin{tabular}{lcccccc}\n",
       "                                & \\textbf{coef} & \\textbf{std err} & \\textbf{z} & \\textbf{P$> |$z$|$} & \\textbf{[0.025} & \\textbf{0.975]}  \\\\\n",
       "\\midrule\n",
       "\\textbf{Intercept}              &       2.5816  &        0.224     &    11.531  &         0.000        &        2.143    &        3.020     \\\\\n",
       "\\textbf{race[T.Caucasian]}      &      -0.6532  &        0.105     &    -6.229  &         0.000        &       -0.859    &       -0.448     \\\\\n",
       "\\textbf{sex[T.Male]}            &      -0.0371  &        0.128     &    -0.290  &         0.772        &       -0.288    &        0.214     \\\\\n",
       "\\textbf{c\\_charge\\_degree[T.M]} &      -0.4953  &        0.106     &    -4.682  &         0.000        &       -0.703    &       -0.288     \\\\\n",
       "\\textbf{age}                    &      -0.1396  &        0.007     &   -19.506  &         0.000        &       -0.154    &       -0.126     \\\\\n",
       "\\textbf{priors\\_count}          &       0.3782  &        0.016     &    23.279  &         0.000        &        0.346    &        0.410     \\\\\n",
       "\\bottomrule\n",
       "\\end{tabular}\n",
       "%\\caption{Logit Regression Results}\n",
       "\\end{center}"
      ],
      "text/plain": [
       "<class 'statsmodels.iolib.summary.Summary'>\n",
       "\"\"\"\n",
       "                           Logit Regression Results                           \n",
       "==============================================================================\n",
       "Dep. Variable:                      Y   No. Observations:                 3821\n",
       "Model:                          Logit   Df Residuals:                     3815\n",
       "Method:                           MLE   Df Model:                            5\n",
       "Date:                Thu, 07 Aug 2025   Pseudo R-squ.:                  0.3921\n",
       "Time:                        12:30:39   Log-Likelihood:                -1376.3\n",
       "converged:                       True   LL-Null:                       -2263.9\n",
       "Covariance Type:            nonrobust   LLR p-value:                     0.000\n",
       "========================================================================================\n",
       "                           coef    std err          z      P>|z|      [0.025      0.975]\n",
       "----------------------------------------------------------------------------------------\n",
       "Intercept                2.5816      0.224     11.531      0.000       2.143       3.020\n",
       "race[T.Caucasian]       -0.6532      0.105     -6.229      0.000      -0.859      -0.448\n",
       "sex[T.Male]             -0.0371      0.128     -0.290      0.772      -0.288       0.214\n",
       "c_charge_degree[T.M]    -0.4953      0.106     -4.682      0.000      -0.703      -0.288\n",
       "age                     -0.1396      0.007    -19.506      0.000      -0.154      -0.126\n",
       "priors_count             0.3782      0.016     23.279      0.000       0.346       0.410\n",
       "========================================================================================\n",
       "\"\"\""
      ]
     },
     "execution_count": 6,
     "metadata": {},
     "output_type": "execute_result"
    }
   ],
   "source": [
    "# evaluate conditional demographic parity\n",
    "# following ProPublica's analysis, X may contain: age, gender, number of prior offenses, and severity of charge\n",
    "# they can be used as control variables in a logistic regression of predicted risk score on race\n",
    "import statsmodels.formula.api as smf\n",
    "# convert score_text to 1 and 0\n",
    "compas_binary['Y'] = compas_binary['score_text'].apply(lambda x: 1 if x == 'High' else 0)\n",
    "model = smf.logit(formula = \"Y ~ race + age + sex + priors_count + c_charge_degree\", data = compas_binary).fit()\n",
    "model.summary()\n"
   ]
  },
  {
   "cell_type": "markdown",
   "metadata": {},
   "source": [
    "We can see that even after controlling for age, gender, prior offenses and the severity of charge, being African American still significantly increased the odds of receiving high-risk predictions. This is a violation of conditional demographic parity."
   ]
  },
  {
   "cell_type": "markdown",
   "metadata": {},
   "source": [
    "### Error Balance / Equalized Odds"
   ]
  },
  {
   "cell_type": "markdown",
   "metadata": {},
   "source": [
    "Demographic parity (with or without conditioning on other observable characteristics) aims to balance the predicted outcomes of two groups. Fairness measures like these reflect the _Equal Outcome_ ideal. In contrast, many other fairness measures are designed to reflect the _Equal Opportunity_ ideal (that individuals from different groups who are equally \"eligible\" are treated equally). **Error Balance** or **Equalized Odds** is one of such measures."
   ]
  },
  {
   "cell_type": "markdown",
   "metadata": {},
   "source": [
    "Error balance requires that the false positive rate and false negative rate are equalized for the two groups. Because false positive / negative rates are equivalent to the complements of recall rates for positive / negative classes, the error balance metric is the same as **equalizing recall rates** for positive and negative classes across the two groups. More formally,"
   ]
  },
  {
   "cell_type": "markdown",
   "metadata": {},
   "source": [
    "```{admonition} Definition: Error Balance / Equalized Odds\n",
    ":class: tip\n",
    "\\begin{align*}\n",
    "\\Pr(\\widehat{Y} = High | R = AA, Y = 0) & = \\Pr(\\widehat{Y} = High | R = W, Y = 0) \\\\\n",
    "\\Pr(\\widehat{Y} = Low | R = AA, Y = 1) & = \\Pr(\\widehat{Y} = Low | R = W, Y = 1)\n",
    "\\end{align*}\n",
    "```"
   ]
  },
  {
   "cell_type": "code",
   "execution_count": null,
   "metadata": {},
   "outputs": [
    {
     "name": "stdout",
     "output_type": "stream",
     "text": [
      "False Positive Rate for African Americans:  0.19464944649446494\n",
      "False Positive Rate for Whites:  0.057547169811320756\n",
      "False Negative Rate for African Americans:  0.42728093947606144\n",
      "False Negative Rate for Whites:  0.7157894736842105\n"
     ]
    }
   ],
   "source": [
    "# evaluate FPR and FNR for both groups\n",
    "FPR_AA = len(compas_binary[(compas_binary['score_text'] == 'High') & (compas_binary['race'] == 'African-American') & (compas_binary['two_year_recid'] == 0)]) / len(compas_binary[(compas_binary['race'] == 'African-American') & (compas_binary['two_year_recid'] == 0)])\n",
    "FNR_AA = len(compas_binary[(compas_binary['score_text'] == 'Low') & (compas_binary['race'] == 'African-American') & (compas_binary['two_year_recid'] == 1)]) / len(compas_binary[(compas_binary['race'] == 'African-American') & (compas_binary['two_year_recid'] == 1)])\n",
    "FPR_W = len(compas_binary[(compas_binary['score_text'] == 'High') & (compas_binary['race'] == 'Caucasian') & (compas_binary['two_year_recid'] == 0)]) / len(compas_binary[(compas_binary['race'] == 'Caucasian') & (compas_binary['two_year_recid'] == 0)])\n",
    "FNR_W = len(compas_binary[(compas_binary['score_text'] == 'Low') & (compas_binary['race'] == 'Caucasian') & (compas_binary['two_year_recid'] == 1)]) / len(compas_binary[(compas_binary['race'] == 'Caucasian') & (compas_binary['two_year_recid'] == 1)])\n",
    "# print results\n",
    "print(\"False Positive Rate for African Americans: \", FPR_AA)\n",
    "print(\"False Positive Rate for Whites: \", FPR_W)\n",
    "print(\"False Negative Rate for African Americans: \", FNR_AA)\n",
    "print(\"False Negative Rate for Whites: \", FNR_W)"
   ]
  },
  {
   "cell_type": "markdown",
   "metadata": {},
   "source": [
    "Here, we see that the false positive / negative rate is clearly higher / lower for African Americans. Specifically, the model makes more false positive mistakes (i.e., misclassify a low-risk defendent as high-risk) for African Americans but makes more false negative mistakes (i.e., misclassify a high-risk defendent as low-risk) for Whites. In fact, this is one of ProPublica's main arguments to show the unfairness of COMPAS {cite:p}`angwin2016machine`."
   ]
  },
  {
   "cell_type": "markdown",
   "metadata": {},
   "source": [
    "Just like in the case of demographic parity, you can further condition on other observables to construct a **conditional** version of error balance / equalized odds. One way to test whether error balance is violated is to create subsets of data where the ground truth recidivism label is 0 or 1. Within each subsample, run logistic regressions of the model's predictions on race and other observed characteristics, then check the coefficient estimate on the group identifier. "
   ]
  },
  {
   "cell_type": "code",
   "execution_count": 11,
   "metadata": {},
   "outputs": [],
   "source": [
    "# create two subsamples, respectively for two-year recidivism label 0 and 1\n",
    "compas_recid_0 = compas_binary[compas_binary['two_year_recid'] == 0]\n",
    "compas_recid_1 = compas_binary[compas_binary['two_year_recid'] == 1]"
   ]
  },
  {
   "cell_type": "code",
   "execution_count": null,
   "metadata": {},
   "outputs": [
    {
     "name": "stdout",
     "output_type": "stream",
     "text": [
      "Optimization terminated successfully.\n",
      "         Current function value: 0.265887\n",
      "         Iterations 8\n"
     ]
    },
    {
     "data": {
      "text/html": [
       "<table class=\"simpletable\">\n",
       "<caption>Logit Regression Results</caption>\n",
       "<tr>\n",
       "  <th>Dep. Variable:</th>           <td>Y</td>        <th>  No. Observations:  </th>   <td>  2144</td>  \n",
       "</tr>\n",
       "<tr>\n",
       "  <th>Model:</th>                 <td>Logit</td>      <th>  Df Residuals:      </th>   <td>  2138</td>  \n",
       "</tr>\n",
       "<tr>\n",
       "  <th>Method:</th>                 <td>MLE</td>       <th>  Df Model:          </th>   <td>     5</td>  \n",
       "</tr>\n",
       "<tr>\n",
       "  <th>Date:</th>            <td>Thu, 07 Aug 2025</td> <th>  Pseudo R-squ.:     </th>   <td>0.3010</td>  \n",
       "</tr>\n",
       "<tr>\n",
       "  <th>Time:</th>                <td>12:56:51</td>     <th>  Log-Likelihood:    </th>  <td> -570.06</td> \n",
       "</tr>\n",
       "<tr>\n",
       "  <th>converged:</th>             <td>True</td>       <th>  LL-Null:           </th>  <td> -815.54</td> \n",
       "</tr>\n",
       "<tr>\n",
       "  <th>Covariance Type:</th>     <td>nonrobust</td>    <th>  LLR p-value:       </th> <td>7.106e-104</td>\n",
       "</tr>\n",
       "</table>\n",
       "<table class=\"simpletable\">\n",
       "<tr>\n",
       "            <td></td>              <th>coef</th>     <th>std err</th>      <th>z</th>      <th>P>|z|</th>  <th>[0.025</th>    <th>0.975]</th>  \n",
       "</tr>\n",
       "<tr>\n",
       "  <th>Intercept</th>            <td>    1.7370</td> <td>    0.350</td> <td>    4.957</td> <td> 0.000</td> <td>    1.050</td> <td>    2.424</td>\n",
       "</tr>\n",
       "<tr>\n",
       "  <th>race[T.Caucasian]</th>    <td>   -0.8190</td> <td>    0.172</td> <td>   -4.771</td> <td> 0.000</td> <td>   -1.156</td> <td>   -0.483</td>\n",
       "</tr>\n",
       "<tr>\n",
       "  <th>sex[T.Male]</th>          <td>   -0.1012</td> <td>    0.190</td> <td>   -0.534</td> <td> 0.593</td> <td>   -0.473</td> <td>    0.270</td>\n",
       "</tr>\n",
       "<tr>\n",
       "  <th>c_charge_degree[T.M]</th> <td>   -0.2090</td> <td>    0.166</td> <td>   -1.259</td> <td> 0.208</td> <td>   -0.534</td> <td>    0.116</td>\n",
       "</tr>\n",
       "<tr>\n",
       "  <th>age</th>                  <td>   -0.1266</td> <td>    0.011</td> <td>  -11.301</td> <td> 0.000</td> <td>   -0.149</td> <td>   -0.105</td>\n",
       "</tr>\n",
       "<tr>\n",
       "  <th>priors_count</th>         <td>    0.3734</td> <td>    0.028</td> <td>   13.370</td> <td> 0.000</td> <td>    0.319</td> <td>    0.428</td>\n",
       "</tr>\n",
       "</table>"
      ],
      "text/latex": [
       "\\begin{center}\n",
       "\\begin{tabular}{lclc}\n",
       "\\toprule\n",
       "\\textbf{Dep. Variable:}         &        Y         & \\textbf{  No. Observations:  } &     2144    \\\\\n",
       "\\textbf{Model:}                 &      Logit       & \\textbf{  Df Residuals:      } &     2138    \\\\\n",
       "\\textbf{Method:}                &       MLE        & \\textbf{  Df Model:          } &        5    \\\\\n",
       "\\textbf{Date:}                  & Thu, 07 Aug 2025 & \\textbf{  Pseudo R-squ.:     } &   0.3010    \\\\\n",
       "\\textbf{Time:}                  &     12:56:51     & \\textbf{  Log-Likelihood:    } &   -570.06   \\\\\n",
       "\\textbf{converged:}             &       True       & \\textbf{  LL-Null:           } &   -815.54   \\\\\n",
       "\\textbf{Covariance Type:}       &    nonrobust     & \\textbf{  LLR p-value:       } & 7.106e-104  \\\\\n",
       "\\bottomrule\n",
       "\\end{tabular}\n",
       "\\begin{tabular}{lcccccc}\n",
       "                                & \\textbf{coef} & \\textbf{std err} & \\textbf{z} & \\textbf{P$> |$z$|$} & \\textbf{[0.025} & \\textbf{0.975]}  \\\\\n",
       "\\midrule\n",
       "\\textbf{Intercept}              &       1.7370  &        0.350     &     4.957  &         0.000        &        1.050    &        2.424     \\\\\n",
       "\\textbf{race[T.Caucasian]}      &      -0.8190  &        0.172     &    -4.771  &         0.000        &       -1.156    &       -0.483     \\\\\n",
       "\\textbf{sex[T.Male]}            &      -0.1012  &        0.190     &    -0.534  &         0.593        &       -0.473    &        0.270     \\\\\n",
       "\\textbf{c\\_charge\\_degree[T.M]} &      -0.2090  &        0.166     &    -1.259  &         0.208        &       -0.534    &        0.116     \\\\\n",
       "\\textbf{age}                    &      -0.1266  &        0.011     &   -11.301  &         0.000        &       -0.149    &       -0.105     \\\\\n",
       "\\textbf{priors\\_count}          &       0.3734  &        0.028     &    13.370  &         0.000        &        0.319    &        0.428     \\\\\n",
       "\\bottomrule\n",
       "\\end{tabular}\n",
       "%\\caption{Logit Regression Results}\n",
       "\\end{center}"
      ],
      "text/plain": [
       "<class 'statsmodels.iolib.summary.Summary'>\n",
       "\"\"\"\n",
       "                           Logit Regression Results                           \n",
       "==============================================================================\n",
       "Dep. Variable:                      Y   No. Observations:                 2144\n",
       "Model:                          Logit   Df Residuals:                     2138\n",
       "Method:                           MLE   Df Model:                            5\n",
       "Date:                Thu, 07 Aug 2025   Pseudo R-squ.:                  0.3010\n",
       "Time:                        12:56:51   Log-Likelihood:                -570.06\n",
       "converged:                       True   LL-Null:                       -815.54\n",
       "Covariance Type:            nonrobust   LLR p-value:                7.106e-104\n",
       "========================================================================================\n",
       "                           coef    std err          z      P>|z|      [0.025      0.975]\n",
       "----------------------------------------------------------------------------------------\n",
       "Intercept                1.7370      0.350      4.957      0.000       1.050       2.424\n",
       "race[T.Caucasian]       -0.8190      0.172     -4.771      0.000      -1.156      -0.483\n",
       "sex[T.Male]             -0.1012      0.190     -0.534      0.593      -0.473       0.270\n",
       "c_charge_degree[T.M]    -0.2090      0.166     -1.259      0.208      -0.534       0.116\n",
       "age                     -0.1266      0.011    -11.301      0.000      -0.149      -0.105\n",
       "priors_count             0.3734      0.028     13.370      0.000       0.319       0.428\n",
       "========================================================================================\n",
       "\"\"\""
      ]
     },
     "execution_count": 12,
     "metadata": {},
     "output_type": "execute_result"
    }
   ],
   "source": [
    "# regressions on recall of class 0\n",
    "model_recid_0 = smf.logit(formula = \"Y ~ race + age + sex + priors_count + c_charge_degree\", data = compas_recid_0).fit()\n",
    "model_recid_0.summary()"
   ]
  },
  {
   "cell_type": "code",
   "execution_count": 13,
   "metadata": {},
   "outputs": [
    {
     "name": "stdout",
     "output_type": "stream",
     "text": [
      "Optimization terminated successfully.\n",
      "         Current function value: 0.452899\n",
      "         Iterations 7\n"
     ]
    },
    {
     "data": {
      "text/html": [
       "<table class=\"simpletable\">\n",
       "<caption>Logit Regression Results</caption>\n",
       "<tr>\n",
       "  <th>Dep. Variable:</th>           <td>Y</td>        <th>  No. Observations:  </th>   <td>  1677</td>  \n",
       "</tr>\n",
       "<tr>\n",
       "  <th>Model:</th>                 <td>Logit</td>      <th>  Df Residuals:      </th>   <td>  1671</td>  \n",
       "</tr>\n",
       "<tr>\n",
       "  <th>Method:</th>                 <td>MLE</td>       <th>  Df Model:          </th>   <td>     5</td>  \n",
       "</tr>\n",
       "<tr>\n",
       "  <th>Date:</th>            <td>Thu, 07 Aug 2025</td> <th>  Pseudo R-squ.:     </th>   <td>0.3454</td>  \n",
       "</tr>\n",
       "<tr>\n",
       "  <th>Time:</th>                <td>12:57:32</td>     <th>  Log-Likelihood:    </th>  <td> -759.51</td> \n",
       "</tr>\n",
       "<tr>\n",
       "  <th>converged:</th>             <td>True</td>       <th>  LL-Null:           </th>  <td> -1160.3</td> \n",
       "</tr>\n",
       "<tr>\n",
       "  <th>Covariance Type:</th>     <td>nonrobust</td>    <th>  LLR p-value:       </th> <td>5.528e-171</td>\n",
       "</tr>\n",
       "</table>\n",
       "<table class=\"simpletable\">\n",
       "<tr>\n",
       "            <td></td>              <th>coef</th>     <th>std err</th>      <th>z</th>      <th>P>|z|</th>  <th>[0.025</th>    <th>0.975]</th>  \n",
       "</tr>\n",
       "<tr>\n",
       "  <th>Intercept</th>            <td>    2.9475</td> <td>    0.300</td> <td>    9.841</td> <td> 0.000</td> <td>    2.361</td> <td>    3.535</td>\n",
       "</tr>\n",
       "<tr>\n",
       "  <th>race[T.Caucasian]</th>    <td>   -0.5262</td> <td>    0.139</td> <td>   -3.797</td> <td> 0.000</td> <td>   -0.798</td> <td>   -0.255</td>\n",
       "</tr>\n",
       "<tr>\n",
       "  <th>sex[T.Male]</th>          <td>   -0.1341</td> <td>    0.184</td> <td>   -0.727</td> <td> 0.467</td> <td>   -0.495</td> <td>    0.227</td>\n",
       "</tr>\n",
       "<tr>\n",
       "  <th>c_charge_degree[T.M]</th> <td>   -0.6811</td> <td>    0.140</td> <td>   -4.850</td> <td> 0.000</td> <td>   -0.956</td> <td>   -0.406</td>\n",
       "</tr>\n",
       "<tr>\n",
       "  <th>age</th>                  <td>   -0.1293</td> <td>    0.009</td> <td>  -13.906</td> <td> 0.000</td> <td>   -0.148</td> <td>   -0.111</td>\n",
       "</tr>\n",
       "<tr>\n",
       "  <th>priors_count</th>         <td>    0.3282</td> <td>    0.020</td> <td>   16.365</td> <td> 0.000</td> <td>    0.289</td> <td>    0.367</td>\n",
       "</tr>\n",
       "</table>"
      ],
      "text/latex": [
       "\\begin{center}\n",
       "\\begin{tabular}{lclc}\n",
       "\\toprule\n",
       "\\textbf{Dep. Variable:}         &        Y         & \\textbf{  No. Observations:  } &     1677    \\\\\n",
       "\\textbf{Model:}                 &      Logit       & \\textbf{  Df Residuals:      } &     1671    \\\\\n",
       "\\textbf{Method:}                &       MLE        & \\textbf{  Df Model:          } &        5    \\\\\n",
       "\\textbf{Date:}                  & Thu, 07 Aug 2025 & \\textbf{  Pseudo R-squ.:     } &   0.3454    \\\\\n",
       "\\textbf{Time:}                  &     12:57:32     & \\textbf{  Log-Likelihood:    } &   -759.51   \\\\\n",
       "\\textbf{converged:}             &       True       & \\textbf{  LL-Null:           } &   -1160.3   \\\\\n",
       "\\textbf{Covariance Type:}       &    nonrobust     & \\textbf{  LLR p-value:       } & 5.528e-171  \\\\\n",
       "\\bottomrule\n",
       "\\end{tabular}\n",
       "\\begin{tabular}{lcccccc}\n",
       "                                & \\textbf{coef} & \\textbf{std err} & \\textbf{z} & \\textbf{P$> |$z$|$} & \\textbf{[0.025} & \\textbf{0.975]}  \\\\\n",
       "\\midrule\n",
       "\\textbf{Intercept}              &       2.9475  &        0.300     &     9.841  &         0.000        &        2.361    &        3.535     \\\\\n",
       "\\textbf{race[T.Caucasian]}      &      -0.5262  &        0.139     &    -3.797  &         0.000        &       -0.798    &       -0.255     \\\\\n",
       "\\textbf{sex[T.Male]}            &      -0.1341  &        0.184     &    -0.727  &         0.467        &       -0.495    &        0.227     \\\\\n",
       "\\textbf{c\\_charge\\_degree[T.M]} &      -0.6811  &        0.140     &    -4.850  &         0.000        &       -0.956    &       -0.406     \\\\\n",
       "\\textbf{age}                    &      -0.1293  &        0.009     &   -13.906  &         0.000        &       -0.148    &       -0.111     \\\\\n",
       "\\textbf{priors\\_count}          &       0.3282  &        0.020     &    16.365  &         0.000        &        0.289    &        0.367     \\\\\n",
       "\\bottomrule\n",
       "\\end{tabular}\n",
       "%\\caption{Logit Regression Results}\n",
       "\\end{center}"
      ],
      "text/plain": [
       "<class 'statsmodels.iolib.summary.Summary'>\n",
       "\"\"\"\n",
       "                           Logit Regression Results                           \n",
       "==============================================================================\n",
       "Dep. Variable:                      Y   No. Observations:                 1677\n",
       "Model:                          Logit   Df Residuals:                     1671\n",
       "Method:                           MLE   Df Model:                            5\n",
       "Date:                Thu, 07 Aug 2025   Pseudo R-squ.:                  0.3454\n",
       "Time:                        12:57:32   Log-Likelihood:                -759.51\n",
       "converged:                       True   LL-Null:                       -1160.3\n",
       "Covariance Type:            nonrobust   LLR p-value:                5.528e-171\n",
       "========================================================================================\n",
       "                           coef    std err          z      P>|z|      [0.025      0.975]\n",
       "----------------------------------------------------------------------------------------\n",
       "Intercept                2.9475      0.300      9.841      0.000       2.361       3.535\n",
       "race[T.Caucasian]       -0.5262      0.139     -3.797      0.000      -0.798      -0.255\n",
       "sex[T.Male]             -0.1341      0.184     -0.727      0.467      -0.495       0.227\n",
       "c_charge_degree[T.M]    -0.6811      0.140     -4.850      0.000      -0.956      -0.406\n",
       "age                     -0.1293      0.009    -13.906      0.000      -0.148      -0.111\n",
       "priors_count             0.3282      0.020     16.365      0.000       0.289       0.367\n",
       "========================================================================================\n",
       "\"\"\""
      ]
     },
     "execution_count": 13,
     "metadata": {},
     "output_type": "execute_result"
    }
   ],
   "source": [
    "# regressions on recall of class 1\n",
    "model_recid_1 = smf.logit(formula = \"Y ~ race + age + sex + priors_count + c_charge_degree\", data = compas_recid_1).fit()\n",
    "model_recid_1.summary()"
   ]
  },
  {
   "cell_type": "markdown",
   "metadata": {},
   "source": [
    "In the regression on the ```compas_recid_0``` sample, we see a significant and negative coefficient on the race variable, indicating that white defendants who did not reoffend have a lower probability of experiencing false positive predictions (i.e., recall rate of class 0 is higher for white defendants). Similarly, in the regression on the ```compas_recid_1``` sample, we also see a significant and negative coefficient on the race variable, indicating that white defendants who did reoffend have a higher probability of experiencing false negative predictions (i.e., recall rate of class 1 is lower for white defendants)."
   ]
  },
  {
   "cell_type": "markdown",
   "metadata": {},
   "source": [
    "```{warning}\n",
    "Importantly, error balance is sometimes informally described as requiring a classifier to not be systematically **more inaccurate** for one group vs. the other group. This can be misleading. Error balance focus on equalizing a specific type of performance metric, namely the recall rates. As will be seen in the subsequent discussion on predictive parity, even when error balance is satisfied, the model can still have differential accuracy for different groups, e.g., by achieving different precision rates.\n",
    "```"
   ]
  },
  {
   "cell_type": "markdown",
   "metadata": {},
   "source": [
    "Another way to define error balance makes use of **predicted probabilities** rather than class predictions. It seeks to equalize the expected predicted probabilities of different groups conditioning on true labels (see, for example, {cite:t}`kleinberg2016inherent`). More formally,"
   ]
  },
  {
   "cell_type": "markdown",
   "metadata": {},
   "source": [
    "```{admonition} Definition: Error Balance / Equalized Odds (with predicted probabilities)\n",
    ":class: tip\n",
    "\\begin{align*}\n",
    "\\mathbb{E}(p | R = AA, Y = 0) & = \\mathbb{E}(p | R = W, Y = 0) \\\\\n",
    "\\mathbb{E}(p | R = AA, Y = 1) & = \\mathbb{E}(p | R = W, Y = 1)\n",
    "\\end{align*}\n",
    "```"
   ]
  },
  {
   "cell_type": "code",
   "execution_count": 8,
   "metadata": {},
   "outputs": [
    {
     "name": "stdout",
     "output_type": "stream",
     "text": [
      "Average decile score for African Americans who did not recidivate:  3.5488929889298895\n",
      "Average decile score for African Americans who recidivated:  6.308039747064138\n",
      "Average decile score for Whites who did not recidivate:  2.3650943396226416\n",
      "Average decile score for Whites who recidivated:  4.187719298245614\n"
     ]
    }
   ],
   "source": [
    "# evaluate error balance with predicted probabilities\n",
    "# we will use \"decile_score\" to approximate the predicted probability of recidivism\n",
    "# COMPAS predicts \"High\" risk when decile score is greater than 7 and \"Low\" if the decile score is lower than 5\n",
    "# print average decile_score for African Americans and Whites\n",
    "AA_0_avg = compas_binary[(compas_binary['race'] == 'African-American') & (compas_binary['two_year_recid'] == 0)]['decile_score'].mean()\n",
    "AA_1_avg = compas_binary[(compas_binary['race'] == 'African-American') & (compas_binary['two_year_recid'] == 1)]['decile_score'].mean()\n",
    "W_0_avg = compas_binary[(compas_binary['race'] == 'Caucasian') & (compas_binary['two_year_recid'] == 0)]['decile_score'].mean()\n",
    "W_1_avg = compas_binary[(compas_binary['race'] == 'Caucasian') & (compas_binary['two_year_recid'] == 1)]['decile_score'].mean()\n",
    "# print results\n",
    "print(\"Average decile score for African Americans who did not recidivate: \", AA_0_avg)\n",
    "print(\"Average decile score for African Americans who recidivated: \", AA_1_avg)\n",
    "print(\"Average decile score for Whites who did not recidivate: \", W_0_avg)\n",
    "print(\"Average decile score for Whites who recidivated: \", W_1_avg)"
   ]
  },
  {
   "cell_type": "markdown",
   "metadata": {},
   "source": [
    "Again, we see that the model systematically assigned higher decile scores to African Americans who did not recidivate, but lower scores to Whites who did recidivate."
   ]
  },
  {
   "cell_type": "markdown",
   "metadata": {},
   "source": [
    "### Predictive Parity"
   ]
  },
  {
   "cell_type": "markdown",
   "metadata": {},
   "source": [
    "In response to ProPublica's allegation that COMPAS violated error balance, {cite:t}`dieterich2016compas` argued that a more \"appropriate\" fairness metric would be **Predictive Parity**, which requires that individuals who received a given type of predictions (high risk or low risk) should have equal probability of actually reoffending or not, regardless of race. In machine learning language, predictive parity requires equalizing the **precision rates** of both classes across groups. Formally, it can be defined as "
   ]
  },
  {
   "cell_type": "markdown",
   "metadata": {},
   "source": [
    "```{admonition} Definition: Predictive Parity (Equalized False Discovery / Omission Rates)\n",
    ":class: tip\n",
    "\\begin{align*}\n",
    "\\Pr(Y = 1 | R = AA, \\widehat{Y} = Low) & = \\Pr(Y = High | R = W, \\widehat{Y} = Low) \\\\\n",
    "\\Pr(Y = 0 | R = AA, \\widehat{Y} = High) & = \\Pr(Y = Low | R = W, \\widehat{Y} = High)\n",
    "\\end{align*}\n",
    "```"
   ]
  },
  {
   "cell_type": "code",
   "execution_count": 10,
   "metadata": {},
   "outputs": [
    {
     "name": "stdout",
     "output_type": "stream",
     "text": [
      "False Omission Rate for African Americans:  0.3514115898959881\n",
      "False Omission Rate for Whites:  0.2899786780383795\n",
      "False Discovery Rate for African Americans:  0.24970414201183433\n",
      "False Discovery Rate for Whites:  0.273542600896861\n"
     ]
    }
   ],
   "source": [
    "# evaluate predictive parity for both groups\n",
    "FOR_AA = len(compas_binary[(compas_binary['two_year_recid'] == 1) & (compas_binary['race'] == 'African-American') & (compas_binary['score_text'] == 'Low')]) / len(compas_binary[(compas_binary['race'] == 'African-American') & (compas_binary['score_text'] == 'Low')])\n",
    "FDR_AA = len(compas_binary[(compas_binary['two_year_recid'] == 0) & (compas_binary['race'] == 'African-American') & (compas_binary['score_text'] == 'High')]) / len(compas_binary[(compas_binary['race'] == 'African-American') & (compas_binary['score_text'] == 'High')])\n",
    "FOR_W = len(compas_binary[(compas_binary['two_year_recid'] == 1) & (compas_binary['race'] == 'Caucasian') & (compas_binary['score_text'] == 'Low')]) / len(compas_binary[(compas_binary['race'] == 'Caucasian') & (compas_binary['score_text'] == 'Low')])\n",
    "FDR_W = len(compas_binary[(compas_binary['two_year_recid'] == 0) & (compas_binary['race'] == 'Caucasian') & (compas_binary['score_text'] == 'High')]) / len(compas_binary[(compas_binary['race'] == 'Caucasian') & (compas_binary['score_text'] == 'High')])\n",
    "# print results\n",
    "print(\"False Omission Rate for African Americans: \", FOR_AA)\n",
    "print(\"False Omission Rate for Whites: \", FOR_W)\n",
    "print(\"False Discovery Rate for African Americans: \", FDR_AA)\n",
    "print(\"False Discovery Rate for Whites: \", FDR_W)"
   ]
  },
  {
   "cell_type": "markdown",
   "metadata": {},
   "source": [
    "Here, we find that the false omission rate (i.e., labeled as low-risk, but did recidivate) is somewhat higher for African American than for White, and the false discovery rate is fairly similar. To account for other observed characteristics, we can create subsets of data where the predicted label is 0 or 1. Within each subsample, run logistic regressions of the actual recidivism outcome on race and other observed characteristics, then check the coefficient estimate on the group identifier. "
   ]
  },
  {
   "cell_type": "code",
   "execution_count": 15,
   "metadata": {},
   "outputs": [],
   "source": [
    "# create two subsamples, respectively for predicted label 0 and 1\n",
    "compas_pred_0 = compas_binary[compas_binary['score_text'] == 'Low']\n",
    "compas_pred_1 = compas_binary[compas_binary['score_text'] == 'High']"
   ]
  },
  {
   "cell_type": "code",
   "execution_count": 16,
   "metadata": {},
   "outputs": [
    {
     "name": "stdout",
     "output_type": "stream",
     "text": [
      "Optimization terminated successfully.\n",
      "         Current function value: 0.590147\n",
      "         Iterations 5\n"
     ]
    },
    {
     "data": {
      "text/html": [
       "<table class=\"simpletable\">\n",
       "<caption>Logit Regression Results</caption>\n",
       "<tr>\n",
       "  <th>Dep. Variable:</th>    <td>two_year_recid</td>  <th>  No. Observations:  </th>  <td>  2753</td>  \n",
       "</tr>\n",
       "<tr>\n",
       "  <th>Model:</th>                 <td>Logit</td>      <th>  Df Residuals:      </th>  <td>  2747</td>  \n",
       "</tr>\n",
       "<tr>\n",
       "  <th>Method:</th>                 <td>MLE</td>       <th>  Df Model:          </th>  <td>     5</td>  \n",
       "</tr>\n",
       "<tr>\n",
       "  <th>Date:</th>            <td>Thu, 07 Aug 2025</td> <th>  Pseudo R-squ.:     </th>  <td>0.05860</td> \n",
       "</tr>\n",
       "<tr>\n",
       "  <th>Time:</th>                <td>13:42:31</td>     <th>  Log-Likelihood:    </th> <td> -1624.7</td> \n",
       "</tr>\n",
       "<tr>\n",
       "  <th>converged:</th>             <td>True</td>       <th>  LL-Null:           </th> <td> -1725.8</td> \n",
       "</tr>\n",
       "<tr>\n",
       "  <th>Covariance Type:</th>     <td>nonrobust</td>    <th>  LLR p-value:       </th> <td>9.354e-42</td>\n",
       "</tr>\n",
       "</table>\n",
       "<table class=\"simpletable\">\n",
       "<tr>\n",
       "            <td></td>              <th>coef</th>     <th>std err</th>      <th>z</th>      <th>P>|z|</th>  <th>[0.025</th>    <th>0.975]</th>  \n",
       "</tr>\n",
       "<tr>\n",
       "  <th>Intercept</th>            <td>   -0.1454</td> <td>    0.169</td> <td>   -0.860</td> <td> 0.390</td> <td>   -0.477</td> <td>    0.186</td>\n",
       "</tr>\n",
       "<tr>\n",
       "  <th>race[T.Caucasian]</th>    <td>   -0.0446</td> <td>    0.087</td> <td>   -0.510</td> <td> 0.610</td> <td>   -0.216</td> <td>    0.127</td>\n",
       "</tr>\n",
       "<tr>\n",
       "  <th>sex[T.Male]</th>          <td>    0.3530</td> <td>    0.111</td> <td>    3.179</td> <td> 0.001</td> <td>    0.135</td> <td>    0.571</td>\n",
       "</tr>\n",
       "<tr>\n",
       "  <th>c_charge_degree[T.M]</th> <td>    0.0557</td> <td>    0.088</td> <td>    0.635</td> <td> 0.525</td> <td>   -0.116</td> <td>    0.227</td>\n",
       "</tr>\n",
       "<tr>\n",
       "  <th>age</th>                  <td>   -0.0334</td> <td>    0.004</td> <td>   -8.664</td> <td> 0.000</td> <td>   -0.041</td> <td>   -0.026</td>\n",
       "</tr>\n",
       "<tr>\n",
       "  <th>priors_count</th>         <td>    0.1862</td> <td>    0.018</td> <td>   10.622</td> <td> 0.000</td> <td>    0.152</td> <td>    0.221</td>\n",
       "</tr>\n",
       "</table>"
      ],
      "text/latex": [
       "\\begin{center}\n",
       "\\begin{tabular}{lclc}\n",
       "\\toprule\n",
       "\\textbf{Dep. Variable:}         & two\\_year\\_recid & \\textbf{  No. Observations:  } &     2753    \\\\\n",
       "\\textbf{Model:}                 &      Logit       & \\textbf{  Df Residuals:      } &     2747    \\\\\n",
       "\\textbf{Method:}                &       MLE        & \\textbf{  Df Model:          } &        5    \\\\\n",
       "\\textbf{Date:}                  & Thu, 07 Aug 2025 & \\textbf{  Pseudo R-squ.:     } &  0.05860    \\\\\n",
       "\\textbf{Time:}                  &     13:42:31     & \\textbf{  Log-Likelihood:    } &   -1624.7   \\\\\n",
       "\\textbf{converged:}             &       True       & \\textbf{  LL-Null:           } &   -1725.8   \\\\\n",
       "\\textbf{Covariance Type:}       &    nonrobust     & \\textbf{  LLR p-value:       } & 9.354e-42   \\\\\n",
       "\\bottomrule\n",
       "\\end{tabular}\n",
       "\\begin{tabular}{lcccccc}\n",
       "                                & \\textbf{coef} & \\textbf{std err} & \\textbf{z} & \\textbf{P$> |$z$|$} & \\textbf{[0.025} & \\textbf{0.975]}  \\\\\n",
       "\\midrule\n",
       "\\textbf{Intercept}              &      -0.1454  &        0.169     &    -0.860  &         0.390        &       -0.477    &        0.186     \\\\\n",
       "\\textbf{race[T.Caucasian]}      &      -0.0446  &        0.087     &    -0.510  &         0.610        &       -0.216    &        0.127     \\\\\n",
       "\\textbf{sex[T.Male]}            &       0.3530  &        0.111     &     3.179  &         0.001        &        0.135    &        0.571     \\\\\n",
       "\\textbf{c\\_charge\\_degree[T.M]} &       0.0557  &        0.088     &     0.635  &         0.525        &       -0.116    &        0.227     \\\\\n",
       "\\textbf{age}                    &      -0.0334  &        0.004     &    -8.664  &         0.000        &       -0.041    &       -0.026     \\\\\n",
       "\\textbf{priors\\_count}          &       0.1862  &        0.018     &    10.622  &         0.000        &        0.152    &        0.221     \\\\\n",
       "\\bottomrule\n",
       "\\end{tabular}\n",
       "%\\caption{Logit Regression Results}\n",
       "\\end{center}"
      ],
      "text/plain": [
       "<class 'statsmodels.iolib.summary.Summary'>\n",
       "\"\"\"\n",
       "                           Logit Regression Results                           \n",
       "==============================================================================\n",
       "Dep. Variable:         two_year_recid   No. Observations:                 2753\n",
       "Model:                          Logit   Df Residuals:                     2747\n",
       "Method:                           MLE   Df Model:                            5\n",
       "Date:                Thu, 07 Aug 2025   Pseudo R-squ.:                 0.05860\n",
       "Time:                        13:42:31   Log-Likelihood:                -1624.7\n",
       "converged:                       True   LL-Null:                       -1725.8\n",
       "Covariance Type:            nonrobust   LLR p-value:                 9.354e-42\n",
       "========================================================================================\n",
       "                           coef    std err          z      P>|z|      [0.025      0.975]\n",
       "----------------------------------------------------------------------------------------\n",
       "Intercept               -0.1454      0.169     -0.860      0.390      -0.477       0.186\n",
       "race[T.Caucasian]       -0.0446      0.087     -0.510      0.610      -0.216       0.127\n",
       "sex[T.Male]              0.3530      0.111      3.179      0.001       0.135       0.571\n",
       "c_charge_degree[T.M]     0.0557      0.088      0.635      0.525      -0.116       0.227\n",
       "age                     -0.0334      0.004     -8.664      0.000      -0.041      -0.026\n",
       "priors_count             0.1862      0.018     10.622      0.000       0.152       0.221\n",
       "========================================================================================\n",
       "\"\"\""
      ]
     },
     "execution_count": 16,
     "metadata": {},
     "output_type": "execute_result"
    }
   ],
   "source": [
    "# regressions on precision of class 0\n",
    "model_pred_0 = smf.logit(formula = \"two_year_recid ~ race + age + sex + priors_count + c_charge_degree\", data = compas_pred_0).fit()\n",
    "model_pred_0.summary()"
   ]
  },
  {
   "cell_type": "code",
   "execution_count": 17,
   "metadata": {},
   "outputs": [
    {
     "name": "stdout",
     "output_type": "stream",
     "text": [
      "Optimization terminated successfully.\n",
      "         Current function value: 0.530777\n",
      "         Iterations 6\n"
     ]
    },
    {
     "data": {
      "text/html": [
       "<table class=\"simpletable\">\n",
       "<caption>Logit Regression Results</caption>\n",
       "<tr>\n",
       "  <th>Dep. Variable:</th>    <td>two_year_recid</td>  <th>  No. Observations:  </th>  <td>  1068</td>  \n",
       "</tr>\n",
       "<tr>\n",
       "  <th>Model:</th>                 <td>Logit</td>      <th>  Df Residuals:      </th>  <td>  1062</td>  \n",
       "</tr>\n",
       "<tr>\n",
       "  <th>Method:</th>                 <td>MLE</td>       <th>  Df Model:          </th>  <td>     5</td>  \n",
       "</tr>\n",
       "<tr>\n",
       "  <th>Date:</th>            <td>Thu, 07 Aug 2025</td> <th>  Pseudo R-squ.:     </th>  <td>0.06458</td> \n",
       "</tr>\n",
       "<tr>\n",
       "  <th>Time:</th>                <td>13:42:35</td>     <th>  Log-Likelihood:    </th> <td> -566.87</td> \n",
       "</tr>\n",
       "<tr>\n",
       "  <th>converged:</th>             <td>True</td>       <th>  LL-Null:           </th> <td> -606.00</td> \n",
       "</tr>\n",
       "<tr>\n",
       "  <th>Covariance Type:</th>     <td>nonrobust</td>    <th>  LLR p-value:       </th> <td>1.930e-15</td>\n",
       "</tr>\n",
       "</table>\n",
       "<table class=\"simpletable\">\n",
       "<tr>\n",
       "            <td></td>              <th>coef</th>     <th>std err</th>      <th>z</th>      <th>P>|z|</th>  <th>[0.025</th>    <th>0.975]</th>  \n",
       "</tr>\n",
       "<tr>\n",
       "  <th>Intercept</th>            <td>    1.4636</td> <td>    0.314</td> <td>    4.660</td> <td> 0.000</td> <td>    0.848</td> <td>    2.079</td>\n",
       "</tr>\n",
       "<tr>\n",
       "  <th>race[T.Caucasian]</th>    <td>    0.1326</td> <td>    0.180</td> <td>    0.738</td> <td> 0.460</td> <td>   -0.219</td> <td>    0.484</td>\n",
       "</tr>\n",
       "<tr>\n",
       "  <th>sex[T.Male]</th>          <td>    0.4517</td> <td>    0.197</td> <td>    2.296</td> <td> 0.022</td> <td>    0.066</td> <td>    0.837</td>\n",
       "</tr>\n",
       "<tr>\n",
       "  <th>c_charge_degree[T.M]</th> <td>   -0.3726</td> <td>    0.167</td> <td>   -2.232</td> <td> 0.026</td> <td>   -0.700</td> <td>   -0.045</td>\n",
       "</tr>\n",
       "<tr>\n",
       "  <th>age</th>                  <td>   -0.0465</td> <td>    0.009</td> <td>   -4.941</td> <td> 0.000</td> <td>   -0.065</td> <td>   -0.028</td>\n",
       "</tr>\n",
       "<tr>\n",
       "  <th>priors_count</th>         <td>    0.1085</td> <td>    0.015</td> <td>    7.143</td> <td> 0.000</td> <td>    0.079</td> <td>    0.138</td>\n",
       "</tr>\n",
       "</table>"
      ],
      "text/latex": [
       "\\begin{center}\n",
       "\\begin{tabular}{lclc}\n",
       "\\toprule\n",
       "\\textbf{Dep. Variable:}         & two\\_year\\_recid & \\textbf{  No. Observations:  } &     1068    \\\\\n",
       "\\textbf{Model:}                 &      Logit       & \\textbf{  Df Residuals:      } &     1062    \\\\\n",
       "\\textbf{Method:}                &       MLE        & \\textbf{  Df Model:          } &        5    \\\\\n",
       "\\textbf{Date:}                  & Thu, 07 Aug 2025 & \\textbf{  Pseudo R-squ.:     } &  0.06458    \\\\\n",
       "\\textbf{Time:}                  &     13:42:35     & \\textbf{  Log-Likelihood:    } &   -566.87   \\\\\n",
       "\\textbf{converged:}             &       True       & \\textbf{  LL-Null:           } &   -606.00   \\\\\n",
       "\\textbf{Covariance Type:}       &    nonrobust     & \\textbf{  LLR p-value:       } & 1.930e-15   \\\\\n",
       "\\bottomrule\n",
       "\\end{tabular}\n",
       "\\begin{tabular}{lcccccc}\n",
       "                                & \\textbf{coef} & \\textbf{std err} & \\textbf{z} & \\textbf{P$> |$z$|$} & \\textbf{[0.025} & \\textbf{0.975]}  \\\\\n",
       "\\midrule\n",
       "\\textbf{Intercept}              &       1.4636  &        0.314     &     4.660  &         0.000        &        0.848    &        2.079     \\\\\n",
       "\\textbf{race[T.Caucasian]}      &       0.1326  &        0.180     &     0.738  &         0.460        &       -0.219    &        0.484     \\\\\n",
       "\\textbf{sex[T.Male]}            &       0.4517  &        0.197     &     2.296  &         0.022        &        0.066    &        0.837     \\\\\n",
       "\\textbf{c\\_charge\\_degree[T.M]} &      -0.3726  &        0.167     &    -2.232  &         0.026        &       -0.700    &       -0.045     \\\\\n",
       "\\textbf{age}                    &      -0.0465  &        0.009     &    -4.941  &         0.000        &       -0.065    &       -0.028     \\\\\n",
       "\\textbf{priors\\_count}          &       0.1085  &        0.015     &     7.143  &         0.000        &        0.079    &        0.138     \\\\\n",
       "\\bottomrule\n",
       "\\end{tabular}\n",
       "%\\caption{Logit Regression Results}\n",
       "\\end{center}"
      ],
      "text/plain": [
       "<class 'statsmodels.iolib.summary.Summary'>\n",
       "\"\"\"\n",
       "                           Logit Regression Results                           \n",
       "==============================================================================\n",
       "Dep. Variable:         two_year_recid   No. Observations:                 1068\n",
       "Model:                          Logit   Df Residuals:                     1062\n",
       "Method:                           MLE   Df Model:                            5\n",
       "Date:                Thu, 07 Aug 2025   Pseudo R-squ.:                 0.06458\n",
       "Time:                        13:42:35   Log-Likelihood:                -566.87\n",
       "converged:                       True   LL-Null:                       -606.00\n",
       "Covariance Type:            nonrobust   LLR p-value:                 1.930e-15\n",
       "========================================================================================\n",
       "                           coef    std err          z      P>|z|      [0.025      0.975]\n",
       "----------------------------------------------------------------------------------------\n",
       "Intercept                1.4636      0.314      4.660      0.000       0.848       2.079\n",
       "race[T.Caucasian]        0.1326      0.180      0.738      0.460      -0.219       0.484\n",
       "sex[T.Male]              0.4517      0.197      2.296      0.022       0.066       0.837\n",
       "c_charge_degree[T.M]    -0.3726      0.167     -2.232      0.026      -0.700      -0.045\n",
       "age                     -0.0465      0.009     -4.941      0.000      -0.065      -0.028\n",
       "priors_count             0.1085      0.015      7.143      0.000       0.079       0.138\n",
       "========================================================================================\n",
       "\"\"\""
      ]
     },
     "execution_count": 17,
     "metadata": {},
     "output_type": "execute_result"
    }
   ],
   "source": [
    "# regressions on precision of class 1\n",
    "model_pred_1 = smf.logit(formula = \"two_year_recid ~ race + age + sex + priors_count + c_charge_degree\", data = compas_pred_1).fit()\n",
    "model_pred_1.summary()"
   ]
  },
  {
   "cell_type": "markdown",
   "metadata": {},
   "source": [
    "We can see that, in both regressions, the coefficient estimate on race is non-siginificant, supporting Northpointe's argument that COMPAS achieved predictive parity."
   ]
  },
  {
   "cell_type": "markdown",
   "metadata": {},
   "source": [
    "### The Impossibility of Achieving both Error Balance and Predictive Parity "
   ]
  },
  {
   "cell_type": "markdown",
   "metadata": {},
   "source": [
    "The COMPAS case is particularly complicated because, as it turns out, one cannot simultaneously achieve error balance and predictive parity (unless there is no disparity in recidivism across race to begin with). This impossibility result, discussed in {cite:t}`kleinberg2016inherent` and {cite:t}`chouldechova2017fair`, can be derived fairly straightforwardly using the [Bayes rule](https://en.wikipedia.org/wiki/Bayes%27_theorem)."
   ]
  },
  {
   "cell_type": "markdown",
   "metadata": {},
   "source": [
    "```{admonition} Proof of the incompatibility between error balance and predictive parity (optional, toggle to show)\n",
    ":class: dropdown\n",
    "Consider a binary classification task with features $X$, sensitive attribute (using gender here as an example) $V \\in \\{F, M \\}$, ground truth $Y \\in \\{0,1\\}$, and classifier prediction $\\widehat{Y} \\in \\{0,1\\}$.\n",
    "\n",
    "The proof will make use of the [Bayes Theorem](https://en.wikipedia.org/wiki/Bayes%27_theorem), which states that for two events $A$ and $B$\n",
    "\n",
    "$$\n",
    "\\Pr(A|B) = \\frac{\\Pr(B|A)\\Pr(A)}{\\Pr(B)}\n",
    "$$\n",
    "\n",
    "In addition, we need a \"conditioned\" version of the Bayes theorem, where each of the above probability is further conditioned on an event $C$, i.e.,\n",
    "\n",
    "$$\n",
    "\\Pr(A|B, C) = \\frac{\\Pr(B|A, C)\\Pr(A|C)}{\\Pr(B|C)}\n",
    "$$\n",
    "\n",
    "Now, set event $A$ as $Y=1$, event $B$ as $\\widehat{Y}=1$, and event $C$ as $V=F$. By applying the conditional Bayes theorem, we get\n",
    "\n",
    "$$\n",
    "\\Pr(Y=1|\\widehat{Y}=1, V=F) = \\frac{\\Pr(\\widehat{Y}=1|Y=1, V=F)\\Pr(Y=1|V=F)}{\\Pr(\\widehat{Y}=1|V=F)} ~~~~~ Eq(1)\n",
    "$$\n",
    "\n",
    "Similarly, by setting event $C$ as $V=M$, we can obtain another equality\n",
    "\n",
    "$$\n",
    "\\Pr(Y=1|\\widehat{Y}=1, V=M) = \\frac{\\Pr(\\widehat{Y}=1|Y=1, V=M)\\Pr(Y=1|V=M)}{\\Pr(\\widehat{Y}=1|V=M)}~~~~~ Eq(2)\n",
    "$$\n",
    "\n",
    "Notice that: \n",
    "\n",
    "- Error balance on class 1 dictates that $\\Pr(\\widehat{Y}=1|Y=1, V=F) = \\Pr(\\widehat{Y}=1|Y=1, V=M)$;\n",
    "- Predictive parity on class 0 dictates that $\\Pr(Y=1|\\widehat{Y}=1, V=F) = \\Pr(Y=1|\\widehat{Y}=1, V=M)$.\n",
    "\n",
    "Comparing the left-hand-side and right-hand-side of the Eq(1) and Eq(2), we can see that: having error balance and predictive parity at the same time would imply\n",
    "\n",
    "$$\n",
    "\\frac{\\Pr(Y=1|V=F)}{\\Pr(\\widehat{Y}=1|V=F)} = \\frac{\\Pr(Y=1|V=M)}{\\Pr(\\widehat{Y}=1|V=M)}\n",
    "$$\n",
    "\n",
    "Now, pay attention to the denominators, for each value of $V\\in\\{F,M\\}$, we have\n",
    "\n",
    "$$\n",
    "\\Pr(\\widehat{Y}=1|V) = \\Pr(\\widehat{Y}=1|Y=1,V) \\Pr(Y=1|V) + \\Pr(\\widehat{Y}=1|Y=0,V) \\Pr(Y=0|V)\n",
    "$$\n",
    "\n",
    "Among these terms\n",
    "\n",
    "- Error balance on class 1 dictates that $\\Pr(\\widehat{Y}=1|Y=1, V=F) = \\Pr(\\widehat{Y}=1|Y=1, V=M)$;\n",
    "- Error balance on class 0 dictates that $\\Pr(\\widehat{Y}=1|Y=0, V=F) = \\Pr(\\widehat{Y}=1|Y=0, V=M)$\n",
    "\n",
    "So, putting everything together, the only way that we can having error balance and predictive parity at the same time is\n",
    "\n",
    "$$\n",
    "\\Pr(Y=1|V=F) = \\Pr(Y=1|V=M)\n",
    "$$\n",
    "\n",
    "which implies there is no inequality in outcomes across gender to begin with. Contradiction.\n",
    "```"
   ]
  },
  {
   "cell_type": "markdown",
   "metadata": {},
   "source": [
    "### Calibration within Groups"
   ]
  },
  {
   "cell_type": "markdown",
   "metadata": {},
   "source": [
    "Calibration within groups represents another fairness measure that relies on predicted probabilities. It refers to a property of classification models, known as **calibration**, which requires the predicted probabilities to be \"accurate\" in the sense that they reflect the actual event rate. For example, suppose a well-calibrated model assigns a predicted probability of 70\\% (of being in positive class) to 10 data points, then you would expect 7 out of those data points to actually belong to the positive class. Calibration is a desierable property because it allows users to intuitively interpret the predicted probabilities as actual event rates. Conversely, predicted probabilities from a poorly calibrated model may systematically overestimate or underestimate the actual event rates. Calibration within groups is a strictly stronger notion of fairness than predictive parity. Calibration within groups implies predictive parity but not vice versa."
   ]
  },
  {
   "cell_type": "markdown",
   "metadata": {},
   "source": [
    "Adapting the notion of calibration for fairness measurement, we say that a classifier achieves calibration within groups if predictions from the two groups are both well-calibrated. More formally,"
   ]
  },
  {
   "cell_type": "markdown",
   "metadata": {},
   "source": [
    "```{admonition} Definition: Equal Calibration\n",
    ":class: tip\n",
    "$$\n",
    "\\mathbb{E}(Y | p, R = AA) = \\mathbb{E}(Y | p, R = W) = p\n",
    "$$\n",
    "```"
   ]
  },
  {
   "cell_type": "code",
   "execution_count": 11,
   "metadata": {},
   "outputs": [
    {
     "data": {
      "image/png": "[encoded data removed]",
      "text/plain": [
       "<Figure size 640x480 with 1 Axes>"
      ]
     },
     "metadata": {},
     "output_type": "display_data"
    }
   ],
   "source": [
    "# evaluate calibration\n",
    "# we will again use decile_score as the predicted probability of recidivism\n",
    "# we will visualize the percentage of recidivism for each decile score and racial group\n",
    "import matplotlib.pyplot as plt\n",
    "# group by decile score and race, then calculate the average value of two_year_recid\n",
    "calibration = compas_binary.groupby(['decile_score', 'race'])['two_year_recid'].mean().reset_index()\n",
    "X = calibration['decile_score'].unique()\n",
    "Y_AA = calibration[calibration['race'] == \"African-American\"]['two_year_recid']\n",
    "Y_W = calibration[calibration['race'] == \"Caucasian\"]['two_year_recid']\n",
    "# plot average recidivism rate for each decile score and the two groups\n",
    "width = 0.4\n",
    "plt.bar(X, Y_AA, width, label = \"African-American\")\n",
    "plt.bar(X + width, Y_W, width, label = \"Caucasian\")\n",
    "plt.xlabel(\"Decile Score\")\n",
    "plt.ylabel(\"Recidivism Rate\")\n",
    "plt.xticks(X + width / 2, X)\n",
    "plt.legend()\n",
    "plt.show()"
   ]
  },
  {
   "cell_type": "markdown",
   "metadata": {},
   "source": [
    "Interestingly, we see that the average recidivism rates across different deciles are somewhat similar between the two groups. Among low-risk deciles, the model seems to underestimate the actual recidivism risks for both groups. Among high-risk deciles, it seems to overestimate the risks. Overall, we do not see a very clear pattern and in fact, this is one of COMPAS' counter-arguments to ProPublica, i.e., their risk tool is similarly calibrated for both racial groups {cite:p}`dieterich2016compas`."
   ]
  },
  {
   "cell_type": "markdown",
   "metadata": {},
   "source": [
    "## Fairness Measure for Numeric Prediction / Regression"
   ]
  },
  {
   "cell_type": "markdown",
   "metadata": {},
   "source": [
    "Besides fairness measures for binary classification, we also need to consider fairness measures for numeric prediction / regression tasks, where the target variables take continuous values. A few fairness measures designed for binary classification can be generalized to the case of numeric prediction / regression. For demonstration, we will treat the ```decile_score``` as the numerical prediction values."
   ]
  },
  {
   "cell_type": "code",
   "execution_count": 5,
   "metadata": {},
   "outputs": [],
   "source": [
    "compas_regression = compas.copy()\n",
    "# treating decile_score as the numerical prediction values, no need to remove any rows"
   ]
  },
  {
   "cell_type": "markdown",
   "metadata": {},
   "source": [
    "### (Conditional) Demographic Parity"
   ]
  },
  {
   "cell_type": "markdown",
   "metadata": {},
   "source": [
    "The same notions of demographic parity and conditional demographic parity can be defined by comparing the expected values of the predicted outcome between two groups."
   ]
  },
  {
   "cell_type": "markdown",
   "metadata": {},
   "source": [
    "```{admonition} Definition: Demographic Parity for Regression\n",
    ":class: tip\n",
    "$$\n",
    "\\mathbb{E}(\\widehat{Y} | R = AA) = \\mathbb{E}(\\widehat{Y} | R = W)\n",
    "$$\n",
    "```"
   ]
  },
  {
   "cell_type": "markdown",
   "metadata": {},
   "source": [
    "```{admonition} Definition: Conditional Demographic Parity for Regression\n",
    ":class: tip\n",
    "$$\n",
    "\\mathbb{E}(\\widehat{Y} | R = AA, \\boldsymbol{X}) = \\mathbb{E}(\\widehat{Y} | R = W, \\boldsymbol{X})\n",
    "$$\n",
    "```"
   ]
  },
  {
   "cell_type": "markdown",
   "metadata": {},
   "source": [
    "Detecting demographic parity can be done by essentially running a regression of $\\widehat{Y}$ on $R$ (and potentially controlling for other observables to evaluate the conditional demographic parity). If $R$ is statistically significantly associated with $\\widehat{Y}$, then there will be a significant difference in the expected $\\widehat{Y}$ between the two groups."
   ]
  },
  {
   "cell_type": "code",
   "execution_count": 7,
   "metadata": {},
   "outputs": [
    {
     "data": {
      "text/html": [
       "<table class=\"simpletable\">\n",
       "<caption>OLS Regression Results</caption>\n",
       "<tr>\n",
       "  <th>Dep. Variable:</th>      <td>decile_score</td>   <th>  R-squared:         </th> <td>   0.421</td> \n",
       "</tr>\n",
       "<tr>\n",
       "  <th>Model:</th>                   <td>OLS</td>       <th>  Adj. R-squared:    </th> <td>   0.420</td> \n",
       "</tr>\n",
       "<tr>\n",
       "  <th>Method:</th>             <td>Least Squares</td>  <th>  F-statistic:       </th> <td>   766.5</td> \n",
       "</tr>\n",
       "<tr>\n",
       "  <th>Date:</th>             <td>Wed, 15 May 2024</td> <th>  Prob (F-statistic):</th>  <td>  0.00</td>  \n",
       "</tr>\n",
       "<tr>\n",
       "  <th>Time:</th>                 <td>16:38:34</td>     <th>  Log-Likelihood:    </th> <td> -11558.</td> \n",
       "</tr>\n",
       "<tr>\n",
       "  <th>No. Observations:</th>      <td>  5278</td>      <th>  AIC:               </th> <td>2.313e+04</td>\n",
       "</tr>\n",
       "<tr>\n",
       "  <th>Df Residuals:</th>          <td>  5272</td>      <th>  BIC:               </th> <td>2.317e+04</td>\n",
       "</tr>\n",
       "<tr>\n",
       "  <th>Df Model:</th>              <td>     5</td>      <th>                     </th>     <td> </td>    \n",
       "</tr>\n",
       "<tr>\n",
       "  <th>Covariance Type:</th>      <td>nonrobust</td>    <th>                     </th>     <td> </td>    \n",
       "</tr>\n",
       "</table>\n",
       "<table class=\"simpletable\">\n",
       "<tr>\n",
       "            <td></td>              <th>coef</th>     <th>std err</th>      <th>t</th>      <th>P>|t|</th>  <th>[0.025</th>    <th>0.975]</th>  \n",
       "</tr>\n",
       "<tr>\n",
       "  <th>Intercept</th>            <td>    7.7276</td> <td>    0.113</td> <td>   68.612</td> <td> 0.000</td> <td>    7.507</td> <td>    7.948</td>\n",
       "</tr>\n",
       "<tr>\n",
       "  <th>race[T.Caucasian]</th>    <td>   -0.5339</td> <td>    0.064</td> <td>   -8.334</td> <td> 0.000</td> <td>   -0.660</td> <td>   -0.408</td>\n",
       "</tr>\n",
       "<tr>\n",
       "  <th>sex[T.Male]</th>          <td>   -0.0735</td> <td>    0.076</td> <td>   -0.968</td> <td> 0.333</td> <td>   -0.222</td> <td>    0.075</td>\n",
       "</tr>\n",
       "<tr>\n",
       "  <th>c_charge_degree[T.M]</th> <td>   -0.4557</td> <td>    0.064</td> <td>   -7.154</td> <td> 0.000</td> <td>   -0.581</td> <td>   -0.331</td>\n",
       "</tr>\n",
       "<tr>\n",
       "  <th>age</th>                  <td>   -0.1052</td> <td>    0.003</td> <td>  -39.595</td> <td> 0.000</td> <td>   -0.110</td> <td>   -0.100</td>\n",
       "</tr>\n",
       "<tr>\n",
       "  <th>priors_count</th>         <td>    0.2742</td> <td>    0.006</td> <td>   42.639</td> <td> 0.000</td> <td>    0.262</td> <td>    0.287</td>\n",
       "</tr>\n",
       "</table>\n",
       "<table class=\"simpletable\">\n",
       "<tr>\n",
       "  <th>Omnibus:</th>       <td>185.369</td> <th>  Durbin-Watson:     </th> <td>   1.959</td>\n",
       "</tr>\n",
       "<tr>\n",
       "  <th>Prob(Omnibus):</th> <td> 0.000</td>  <th>  Jarque-Bera (JB):  </th> <td> 187.510</td>\n",
       "</tr>\n",
       "<tr>\n",
       "  <th>Skew:</th>          <td> 0.431</td>  <th>  Prob(JB):          </th> <td>1.92e-41</td>\n",
       "</tr>\n",
       "<tr>\n",
       "  <th>Kurtosis:</th>      <td> 2.667</td>  <th>  Cond. No.          </th> <td>    151.</td>\n",
       "</tr>\n",
       "</table><br/><br/>Notes:<br/>[1] Standard Errors assume that the covariance matrix of the errors is correctly specified."
      ],
      "text/plain": [
       "<class 'statsmodels.iolib.summary.Summary'>\n",
       "\"\"\"\n",
       "                            OLS Regression Results                            \n",
       "==============================================================================\n",
       "Dep. Variable:           decile_score   R-squared:                       0.421\n",
       "Model:                            OLS   Adj. R-squared:                  0.420\n",
       "Method:                 Least Squares   F-statistic:                     766.5\n",
       "Date:                Wed, 15 May 2024   Prob (F-statistic):               0.00\n",
       "Time:                        16:38:34   Log-Likelihood:                -11558.\n",
       "No. Observations:                5278   AIC:                         2.313e+04\n",
       "Df Residuals:                    5272   BIC:                         2.317e+04\n",
       "Df Model:                           5                                         \n",
       "Covariance Type:            nonrobust                                         \n",
       "========================================================================================\n",
       "                           coef    std err          t      P>|t|      [0.025      0.975]\n",
       "----------------------------------------------------------------------------------------\n",
       "Intercept                7.7276      0.113     68.612      0.000       7.507       7.948\n",
       "race[T.Caucasian]       -0.5339      0.064     -8.334      0.000      -0.660      -0.408\n",
       "sex[T.Male]             -0.0735      0.076     -0.968      0.333      -0.222       0.075\n",
       "c_charge_degree[T.M]    -0.4557      0.064     -7.154      0.000      -0.581      -0.331\n",
       "age                     -0.1052      0.003    -39.595      0.000      -0.110      -0.100\n",
       "priors_count             0.2742      0.006     42.639      0.000       0.262       0.287\n",
       "==============================================================================\n",
       "Omnibus:                      185.369   Durbin-Watson:                   1.959\n",
       "Prob(Omnibus):                  0.000   Jarque-Bera (JB):              187.510\n",
       "Skew:                           0.431   Prob(JB):                     1.92e-41\n",
       "Kurtosis:                       2.667   Cond. No.                         151.\n",
       "==============================================================================\n",
       "\n",
       "Notes:\n",
       "[1] Standard Errors assume that the covariance matrix of the errors is correctly specified.\n",
       "\"\"\""
      ]
     },
     "execution_count": 7,
     "metadata": {},
     "output_type": "execute_result"
    }
   ],
   "source": [
    "# evaluate conditional demographic parity\n",
    "# running a linear regression of decile_score on race, controlling for age, gender, number of prior offenses, and severity of charge\n",
    "import statsmodels.formula.api as smf\n",
    "model = smf.ols(formula = \"decile_score ~ race + age + sex + priors_count + c_charge_degree\", data = compas_regression).fit()\n",
    "model.summary()"
   ]
  },
  {
   "cell_type": "markdown",
   "metadata": {},
   "source": [
    "We can see that, even after controlling for several observables, being the Caucasian is still negatively and significantly associated with risk decile."
   ]
  },
  {
   "cell_type": "markdown",
   "metadata": {},
   "source": [
    "### Residual Balance"
   ]
  },
  {
   "cell_type": "markdown",
   "metadata": {},
   "source": [
    "Residual balance is analogous to the Error Balance measure in binary classification, where fairness is measured by the degree to which the model's prediction errors (which is residual in the case of regression) are balanced across the two groups. Note that we do not have the ground truth value for ```decile_score``` in the dataset. For illustration purpose only, we will use the binary label ```is_redic``` as the ground truth, and use ```decile_score``` / 10 as the predicted value."
   ]
  },
  {
   "cell_type": "markdown",
   "metadata": {},
   "source": [
    "```{admonition} Definition: Residual Balance for Regression[^footnote2]\n",
    ":class: tip\n",
    "$$\n",
    "\\mathbb{E}( (\\widehat{Y} - Y)^2 | R = AA) = \\mathbb{E}( (\\widehat{Y} - Y)^2 | R = W)\n",
    "$$\n",
    "```"
   ]
  },
  {
   "cell_type": "code",
   "execution_count": 9,
   "metadata": {},
   "outputs": [
    {
     "name": "stdout",
     "output_type": "stream",
     "text": [
      "Average squared residuals for African Americans:  0.2295244094488189\n",
      "Average squared residuals for Whites:  0.2261388492629577\n"
     ]
    }
   ],
   "source": [
    "# get the residuals of the regression and store as a new column\n",
    "compas_regression['residuals'] = compas_regression['decile_score'] / 10 - compas_regression['two_year_recid']\n",
    "# evaluate sqaured residuals for African Americans and Caucasians\n",
    "AA_residuals = compas_regression[compas_regression['race'] == 'African-American']['residuals'] ** 2\n",
    "W_residuals = compas_regression[compas_regression['race'] == 'Caucasian']['residuals'] ** 2\n",
    "# print results\n",
    "print(\"Average squared residuals for African Americans: \", AA_residuals.mean())\n",
    "print(\"Average squared residuals for Whites: \", W_residuals.mean())"
   ]
  },
  {
   "cell_type": "markdown",
   "metadata": {},
   "source": [
    "We see that African American defendents had slighter greater residuals (indicating less accurate predictions) than White defendents."
   ]
  },
  {
   "cell_type": "markdown",
   "metadata": {},
   "source": [
    "[^footnote1]: Please note that this is different from ProPublica's processing of the data; they pooled \"Medium\" and \"High\" together as \"High\" category.\n",
    "[^footnote2]: Note that one can use other aggregation functions than $L_2$ here, such as absolute difference (i.e., $L_1$)."
   ]
  }
 ],
 "metadata": {
  "kernelspec": {
   "display_name": "responsibleai",
   "language": "python",
   "name": "python3"
  },
  "language_info": {
   "codemirror_mode": {
    "name": "ipython",
    "version": 3
   },
   "file_extension": ".py",
   "mimetype": "text/x-python",
   "name": "python",
   "nbconvert_exporter": "python",
   "pygments_lexer": "ipython3",
   "version": "3.12.3"
  },
  "widgets": {
   "application/vnd.jupyter.widget-state+json": {
    "state": {},
    "version_major": 2,
    "version_minor": 0
   }
  }
 },
 "nbformat": 4,
 "nbformat_minor": 4
}
